{
 "cells": [
  {
   "cell_type": "code",
   "execution_count": 2,
   "metadata": {},
   "outputs": [],
   "source": [
    "from threading import Thread\n",
    "import time\n",
    "import os"
   ]
  },
  {
   "cell_type": "code",
   "execution_count": 3,
   "metadata": {},
   "outputs": [],
   "source": [
    "import rospy\n",
    "import actionlib\n",
    "from assignment_2_2022.msg import PlanningAction, PlanningGoal\n",
    "from unige_rt1_assignment2.srv import GoalInfo\n",
    "from unige_rt1_assignment2.msg import RoboStatusMsg\n",
    "from sensor_msgs.msg import LaserScan\n",
    "\n",
    "from nav_msgs.msg import Odometry"
   ]
  },
  {
   "cell_type": "code",
   "execution_count": 4,
   "metadata": {},
   "outputs": [],
   "source": [
    "import ipywidgets as widgets\n",
    "from IPython.display import display, clear_output\n",
    "from IPython.core.display import HTML\n",
    "from ipywidgets import Layout"
   ]
  },
  {
   "cell_type": "markdown",
   "metadata": {},
   "source": [
    "Plotting Stuff"
   ]
  },
  {
   "cell_type": "code",
   "execution_count": 5,
   "metadata": {},
   "outputs": [
    {
     "ename": "KeyError",
     "evalue": "'widgets'",
     "output_type": "error",
     "traceback": [
      "\u001b[0;31m---------------------------------------------------------------------------\u001b[0m",
      "\u001b[0;31mKeyError\u001b[0m                                  Traceback (most recent call last)",
      "Cell \u001b[0;32mIn[5], line 7\u001b[0m\n\u001b[1;32m      4\u001b[0m \u001b[38;5;28;01mfrom\u001b[39;00m \u001b[38;5;21;01mtf\u001b[39;00m\u001b[38;5;21;01m.\u001b[39;00m\u001b[38;5;21;01mtransformations\u001b[39;00m \u001b[38;5;28;01mimport\u001b[39;00m quaternion_matrix\n\u001b[1;32m      5\u001b[0m \u001b[38;5;28;01mimport\u001b[39;00m \u001b[38;5;21;01mnumpy\u001b[39;00m \u001b[38;5;28;01mas\u001b[39;00m \u001b[38;5;21;01mnp\u001b[39;00m\n\u001b[0;32m----> 7\u001b[0m \u001b[43mget_ipython\u001b[49m\u001b[43m(\u001b[49m\u001b[43m)\u001b[49m\u001b[38;5;241;43m.\u001b[39;49m\u001b[43mrun_line_magic\u001b[49m\u001b[43m(\u001b[49m\u001b[38;5;124;43m'\u001b[39;49m\u001b[38;5;124;43mmatplotlib\u001b[39;49m\u001b[38;5;124;43m'\u001b[39;49m\u001b[43m,\u001b[49m\u001b[43m \u001b[49m\u001b[38;5;124;43m'\u001b[39;49m\u001b[38;5;124;43mwidgets\u001b[39;49m\u001b[38;5;124;43m'\u001b[39;49m\u001b[43m)\u001b[49m\n\u001b[1;32m      9\u001b[0m \u001b[38;5;28;01mclass\u001b[39;00m \u001b[38;5;21;01mVisualiser\u001b[39;00m:\n\u001b[1;32m     10\u001b[0m     \u001b[38;5;28;01mdef\u001b[39;00m \u001b[38;5;21m__init__\u001b[39m(\u001b[38;5;28mself\u001b[39m):\n",
      "File \u001b[0;32m~/.local/lib/python3.8/site-packages/IPython/core/interactiveshell.py:2369\u001b[0m, in \u001b[0;36mInteractiveShell.run_line_magic\u001b[0;34m(self, magic_name, line, _stack_depth)\u001b[0m\n\u001b[1;32m   2367\u001b[0m     kwargs[\u001b[38;5;124m'\u001b[39m\u001b[38;5;124mlocal_ns\u001b[39m\u001b[38;5;124m'\u001b[39m] \u001b[38;5;241m=\u001b[39m \u001b[38;5;28mself\u001b[39m\u001b[38;5;241m.\u001b[39mget_local_scope(stack_depth)\n\u001b[1;32m   2368\u001b[0m \u001b[38;5;28;01mwith\u001b[39;00m \u001b[38;5;28mself\u001b[39m\u001b[38;5;241m.\u001b[39mbuiltin_trap:\n\u001b[0;32m-> 2369\u001b[0m     result \u001b[38;5;241m=\u001b[39m \u001b[43mfn\u001b[49m\u001b[43m(\u001b[49m\u001b[38;5;241;43m*\u001b[39;49m\u001b[43margs\u001b[49m\u001b[43m,\u001b[49m\u001b[43m \u001b[49m\u001b[38;5;241;43m*\u001b[39;49m\u001b[38;5;241;43m*\u001b[39;49m\u001b[43mkwargs\u001b[49m\u001b[43m)\u001b[49m\n\u001b[1;32m   2370\u001b[0m \u001b[38;5;28;01mreturn\u001b[39;00m result\n",
      "File \u001b[0;32m~/.local/lib/python3.8/site-packages/IPython/core/magics/pylab.py:99\u001b[0m, in \u001b[0;36mPylabMagics.matplotlib\u001b[0;34m(self, line)\u001b[0m\n\u001b[1;32m     97\u001b[0m     \u001b[38;5;28mprint\u001b[39m(\u001b[38;5;124m\"\u001b[39m\u001b[38;5;124mAvailable matplotlib backends: \u001b[39m\u001b[38;5;132;01m%s\u001b[39;00m\u001b[38;5;124m\"\u001b[39m \u001b[38;5;241m%\u001b[39m backends_list)\n\u001b[1;32m     98\u001b[0m \u001b[38;5;28;01melse\u001b[39;00m:\n\u001b[0;32m---> 99\u001b[0m     gui, backend \u001b[38;5;241m=\u001b[39m \u001b[38;5;28;43mself\u001b[39;49m\u001b[38;5;241;43m.\u001b[39;49m\u001b[43mshell\u001b[49m\u001b[38;5;241;43m.\u001b[39;49m\u001b[43menable_matplotlib\u001b[49m\u001b[43m(\u001b[49m\u001b[43margs\u001b[49m\u001b[38;5;241;43m.\u001b[39;49m\u001b[43mgui\u001b[49m\u001b[38;5;241;43m.\u001b[39;49m\u001b[43mlower\u001b[49m\u001b[43m(\u001b[49m\u001b[43m)\u001b[49m\u001b[43m \u001b[49m\u001b[38;5;28;43;01mif\u001b[39;49;00m\u001b[43m \u001b[49m\u001b[38;5;28;43misinstance\u001b[39;49m\u001b[43m(\u001b[49m\u001b[43margs\u001b[49m\u001b[38;5;241;43m.\u001b[39;49m\u001b[43mgui\u001b[49m\u001b[43m,\u001b[49m\u001b[43m \u001b[49m\u001b[38;5;28;43mstr\u001b[39;49m\u001b[43m)\u001b[49m\u001b[43m \u001b[49m\u001b[38;5;28;43;01melse\u001b[39;49;00m\u001b[43m \u001b[49m\u001b[43margs\u001b[49m\u001b[38;5;241;43m.\u001b[39;49m\u001b[43mgui\u001b[49m\u001b[43m)\u001b[49m\n\u001b[1;32m    100\u001b[0m     \u001b[38;5;28mself\u001b[39m\u001b[38;5;241m.\u001b[39m_show_matplotlib_backend(args\u001b[38;5;241m.\u001b[39mgui, backend)\n",
      "File \u001b[0;32m~/.local/lib/python3.8/site-packages/IPython/core/interactiveshell.py:3525\u001b[0m, in \u001b[0;36mInteractiveShell.enable_matplotlib\u001b[0;34m(self, gui)\u001b[0m\n\u001b[1;32m   3522\u001b[0m \u001b[38;5;28;01mfrom\u001b[39;00m \u001b[38;5;21;01mmatplotlib_inline\u001b[39;00m\u001b[38;5;21;01m.\u001b[39;00m\u001b[38;5;21;01mbackend_inline\u001b[39;00m \u001b[38;5;28;01mimport\u001b[39;00m configure_inline_support\n\u001b[1;32m   3524\u001b[0m \u001b[38;5;28;01mfrom\u001b[39;00m \u001b[38;5;21;01mIPython\u001b[39;00m\u001b[38;5;21;01m.\u001b[39;00m\u001b[38;5;21;01mcore\u001b[39;00m \u001b[38;5;28;01mimport\u001b[39;00m pylabtools \u001b[38;5;28;01mas\u001b[39;00m pt\n\u001b[0;32m-> 3525\u001b[0m gui, backend \u001b[38;5;241m=\u001b[39m \u001b[43mpt\u001b[49m\u001b[38;5;241;43m.\u001b[39;49m\u001b[43mfind_gui_and_backend\u001b[49m\u001b[43m(\u001b[49m\u001b[43mgui\u001b[49m\u001b[43m,\u001b[49m\u001b[43m \u001b[49m\u001b[38;5;28;43mself\u001b[39;49m\u001b[38;5;241;43m.\u001b[39;49m\u001b[43mpylab_gui_select\u001b[49m\u001b[43m)\u001b[49m\n\u001b[1;32m   3527\u001b[0m \u001b[38;5;28;01mif\u001b[39;00m gui \u001b[38;5;241m!=\u001b[39m \u001b[38;5;124m'\u001b[39m\u001b[38;5;124minline\u001b[39m\u001b[38;5;124m'\u001b[39m:\n\u001b[1;32m   3528\u001b[0m     \u001b[38;5;66m# If we have our first gui selection, store it\u001b[39m\n\u001b[1;32m   3529\u001b[0m     \u001b[38;5;28;01mif\u001b[39;00m \u001b[38;5;28mself\u001b[39m\u001b[38;5;241m.\u001b[39mpylab_gui_select \u001b[38;5;129;01mis\u001b[39;00m \u001b[38;5;28;01mNone\u001b[39;00m:\n",
      "File \u001b[0;32m~/.local/lib/python3.8/site-packages/IPython/core/pylabtools.py:322\u001b[0m, in \u001b[0;36mfind_gui_and_backend\u001b[0;34m(gui, gui_select)\u001b[0m\n\u001b[1;32m    318\u001b[0m \u001b[38;5;28;01mimport\u001b[39;00m \u001b[38;5;21;01mmatplotlib\u001b[39;00m\n\u001b[1;32m    320\u001b[0m \u001b[38;5;28;01mif\u001b[39;00m gui \u001b[38;5;129;01mand\u001b[39;00m gui \u001b[38;5;241m!=\u001b[39m \u001b[38;5;124m'\u001b[39m\u001b[38;5;124mauto\u001b[39m\u001b[38;5;124m'\u001b[39m:\n\u001b[1;32m    321\u001b[0m     \u001b[38;5;66m# select backend based on requested gui\u001b[39m\n\u001b[0;32m--> 322\u001b[0m     backend \u001b[38;5;241m=\u001b[39m \u001b[43mbackends\u001b[49m\u001b[43m[\u001b[49m\u001b[43mgui\u001b[49m\u001b[43m]\u001b[49m\n\u001b[1;32m    323\u001b[0m     \u001b[38;5;28;01mif\u001b[39;00m gui \u001b[38;5;241m==\u001b[39m \u001b[38;5;124m'\u001b[39m\u001b[38;5;124magg\u001b[39m\u001b[38;5;124m'\u001b[39m:\n\u001b[1;32m    324\u001b[0m         gui \u001b[38;5;241m=\u001b[39m \u001b[38;5;28;01mNone\u001b[39;00m\n",
      "\u001b[0;31mKeyError\u001b[0m: 'widgets'"
     ]
    }
   ],
   "source": [
    "import matplotlib.pyplot as plt\n",
    "from matplotlib.animation import FuncAnimation\n",
    "import tf\n",
    "from tf.transformations import quaternion_matrix\n",
    "import numpy as np\n",
    "\n",
    "%matplotlib inline\n",
    "\n",
    "class Visualiser:\n",
    "    def __init__(self):\n",
    "        self.fig, self.ax = plt.subplots()\n",
    "        self.ln, = plt.plot([], [], 'ro')\n",
    "        self.x_data, self.y_data = [] , []\n",
    "\n",
    "    def plot_init(self):\n",
    "        self.ax.set_xlim(-10, 10)\n",
    "        self.ax.set_ylim(-10, 10)\n",
    "        return self.ln\n",
    "\n",
    "    def odom_callback(self, msg):\n",
    "        self.y_data.append(msg.pose.pose.position.y)\n",
    "        self.x_data.append(msg.pose.pose.position.x)\n",
    "        \n",
    "    def update_plot(self, frame):\n",
    "        self.ln.set_data(self.x_data, self.y_data)\n",
    "        return self.ln\n"
   ]
  },
  {
   "cell_type": "code",
   "execution_count": null,
   "metadata": {},
   "outputs": [],
   "source": [
    "class RoboClient:\n",
    "    def __init__(self):\n",
    "        rospy.init_node('robo_client', anonymous=True)\n",
    "        \n",
    "        # Service client to get the goals info\n",
    "        self.goal_info_client = rospy.ServiceProxy(\"/goals_service\", GoalInfo)\n",
    "\n",
    "        # Dictionary to store the robot position\n",
    "        self. robo_position = {\n",
    "            \"x\": 0.0,\n",
    "            \"y\": 0.0\n",
    "        }\n",
    "        # Subscriber to get the robot position\n",
    "        self.robo_position_sub = rospy.Subscriber(\"/robot/robo_stats\", RoboStatusMsg, self.robo_position_callback)\n",
    "\n",
    "        # variable to store the closest obstacle, defined as infinity at the beginning\n",
    "        self.closest_obstacle = float(\"inf\")\n",
    "        # Subscriber to get the laser scan information for distance to obstacles\n",
    "        self.laser_scan_sub = rospy.Subscriber(\"/scan\", LaserScan, self.laser_scan_callback)\n",
    "\n",
    "        # Action client to send the goals\n",
    "        self.target_ac = actionlib.SimpleActionClient(\"/reaching_goal\", PlanningAction)\n",
    "        rospy.loginfo(\"Waiting for action server to start.\")\n",
    "        self.target_ac.wait_for_server()\n",
    "        rospy.loginfo(\"Action server started!\")\n",
    "\n",
    "        # Initialize the Visualizer\n",
    "        self.vis = Visualiser()\n",
    "        self.vis_sub = rospy.Subscriber(\"/odom\", Odometry, self.vis.odom_callback)\n",
    "        self.vis_ani = FuncAnimation(self.vis.fig, self.vis.update_plot, init_func=self.vis.plot_init)\n",
    "\n",
    "    def send_goal(self, x, y):\n",
    "        goal = PlanningGoal()\n",
    "        goal.target_pose.pose.position.x = x\n",
    "        goal.target_pose.pose.position.y = y\n",
    "        self.target_ac.send_goal(goal)\n",
    "\n",
    "        if rospy.has_param(\"/robot/goal_pos_param\"):\n",
    "            rospy.set_param(\"/robot/goal_pos_param/x_goal\", x)\n",
    "            rospy.set_param(\"/robot/goal_pos_param/y_goal\", y)\n",
    "        else:\n",
    "            rospy.logerr(\"Goal position parameter not found on the parameter server.\")\n",
    "\n",
    "    def cancel_goal(self):\n",
    "        if self.target_ac.get_state() == actionlib.GoalStatus.ACTIVE:\n",
    "            print(\"Cancelling current goal...\")\n",
    "            self.target_ac.cancel_goal()\n",
    "        else:\n",
    "            print(\"No goal is currently executing.\")\n",
    "    \n",
    "    def get_goal_info(self):\n",
    "        try:\n",
    "            goals_info_response = self.goal_info_client()\n",
    "            return goals_info_response.msg_feedback\n",
    "        except rospy.ServiceException as e:\n",
    "            print(\"Service call failed: %s\"%e)\n",
    "            return None\n",
    "\n",
    "    def robo_position_callback(self, msg):\n",
    "        self.robo_position[\"x\"] = msg.pos_x\n",
    "        self.robo_position[\"y\"] = msg.pos_y\n",
    "    \n",
    "    def get_robo_position(self):\n",
    "        return self.robo_position[\"x\"], self.robo_position[\"y\"]\n",
    "\n",
    "    def laser_scan_callback(self, msg):\n",
    "        self.closest_obstacle = min(msg.ranges)\n",
    "\n",
    "    def get_closest_obstacle(self):\n",
    "        return self.closest_obstacle\n",
    "\n",
    "    def spin(self):\n",
    "        rospy.spin()"
   ]
  },
  {
   "cell_type": "code",
   "execution_count": null,
   "metadata": {},
   "outputs": [],
   "source": [
    "robo_client = RoboClient()\n",
    "\n",
    "def on_send_button_click(button):\n",
    "    x = float(x_text.value)\n",
    "    y = float(y_text.value)\n",
    "    robo_client.send_goal(x, y)\n",
    "    print(f\"Sending new goal: ({x}, {y})\")\n",
    "\n",
    "def on_cancel_button_click(button):\n",
    "    robo_client.cancel_goal()\n",
    "\n",
    "x_text = widgets.FloatText(description=\"X:\")\n",
    "y_text = widgets.FloatText(description=\"Y:\")\n",
    "\n",
    "send_button = widgets.Button(description=\"Send Goal\")\n",
    "send_button.on_click(on_send_button_click)\n",
    "\n",
    "cancel_button = widgets.Button(description=\"Cancel Goal\")\n",
    "cancel_button.on_click(on_cancel_button_click)\n",
    "\n",
    "goal_ui = widgets.HBox([x_text, y_text, send_button, cancel_button])"
   ]
  },
  {
   "cell_type": "code",
   "execution_count": null,
   "metadata": {},
   "outputs": [],
   "source": [
    "# Information Display UI\n",
    "\n",
    "# Widget to display the robot position\n",
    "robo_pos_widget_label = widgets.HTML(value=\"<p style='font-size: 14px;'><b>Robot position:</b> N/A</p>\")\n",
    "\n",
    "# Widget to display the closest obstacle\n",
    "closest_obstacle_widget_label = widgets.HTML(value=\"<p style='font-size: 14px;'><b>Distance to closest obstacle:</b> N/A</p>\")\n",
    "\n",
    "# Jupyter widget for goals reached and cancelled\n",
    "goal_info_widget_label = widgets.HTML(value=\"<p style='font-size: 14px;'><b>Goals reached:</b> N/A</p>\")\n",
    "\n",
    "# Combine the labels into a single UI using a VBox\n",
    "info_ui = widgets.VBox([robo_pos_widget_label, closest_obstacle_widget_label, goal_info_widget_label])"
   ]
  },
  {
   "cell_type": "code",
   "execution_count": null,
   "metadata": {},
   "outputs": [],
   "source": [
    "# heading\n",
    "heading = widgets.HTML(value=\"<center><h2><u>Robot Controller Interface</u></h2></center>\")\n",
    "\n",
    "# Combine the goal UI and the information UI into a single UI using a VBox\n",
    "combined_ui = widgets.VBox([heading, goal_ui, info_ui])\n",
    "\n",
    "# Display the combined UI\n",
    "display(combined_ui)"
   ]
  },
  {
   "cell_type": "code",
   "execution_count": null,
   "metadata": {},
   "outputs": [],
   "source": [
    "def updated_robo_position():\n",
    "    while not rospy.is_shutdown():\n",
    "        robo_x_pos, robo_y_pos = robo_client.get_robo_position()\n",
    "        robo_pos_widget_label.value = f\"Robot position: ({robo_x_pos:.2f}, {robo_y_pos:.2f})\"\n",
    "\n",
    "        closest_obstacle_dist = robo_client.get_closest_obstacle()\n",
    "        closest_obstacle_widget_label.value = f\"Distance to closest obstacle: {closest_obstacle_dist:.2f}\"\n",
    "\n",
    "        plt.show(block=False)\n",
    "        plt.pause(0.001)\n",
    "\n",
    "        rospy.sleep(0.75)\n",
    "\n",
    "position_thread = Thread(target=updated_robo_position)\n",
    "position_thread.start()"
   ]
  },
  {
   "cell_type": "code",
   "execution_count": null,
   "metadata": {},
   "outputs": [],
   "source": [
    "def update_goal_info():\n",
    "    while not rospy.is_shutdown():\n",
    "        goal_info = robo_client.get_goal_info()\n",
    "        if goal_info is not None:\n",
    "            goal_info_widget_label.value = f\"Goals Information: {goal_info}\"\n",
    "        rospy.sleep(0.75)\n",
    "\n",
    "goal_info_thread = Thread(target=update_goal_info)\n",
    "goal_info_thread.start()"
   ]
  },
  {
   "cell_type": "code",
   "execution_count": null,
   "metadata": {},
   "outputs": [],
   "source": []
  }
 ],
 "metadata": {
  "kernelspec": {
   "display_name": "Python 3 (ipykernel)",
   "language": "python",
   "name": "python3"
  },
  "language_info": {
   "codemirror_mode": {
    "name": "ipython",
    "version": 3
   },
   "file_extension": ".py",
   "mimetype": "text/x-python",
   "name": "python",
   "nbconvert_exporter": "python",
   "pygments_lexer": "ipython3",
   "version": "3.8.10"
  }
 },
 "nbformat": 4,
 "nbformat_minor": 2
}
