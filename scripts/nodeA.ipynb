{
 "cells": [
  {
   "cell_type": "code",
   "execution_count": 1,
   "metadata": {},
   "outputs": [],
   "source": [
    "from threading import Thread\n",
    "import time\n",
    "import os"
   ]
  },
  {
   "cell_type": "code",
   "execution_count": 2,
   "metadata": {},
   "outputs": [],
   "source": [
    "import rospy\n",
    "import actionlib\n",
    "from assignment_2_2022.msg import PlanningAction, PlanningGoal\n",
    "from unige_rt1_assignment2.srv import GoalInfo\n",
    "from unige_rt1_assignment2.msg import RoboStatusMsg\n",
    "from sensor_msgs.msg import LaserScan\n",
    "\n",
    "from nav_msgs.msg import Odometry"
   ]
  },
  {
   "cell_type": "code",
   "execution_count": 3,
   "metadata": {},
   "outputs": [],
   "source": [
    "import ipywidgets as widgets\n",
    "from IPython.display import display, clear_output\n",
    "from IPython.core.display import HTML\n",
    "from ipywidgets import Layout"
   ]
  },
  {
   "cell_type": "code",
   "execution_count": 4,
   "metadata": {},
   "outputs": [],
   "source": [
    "import matplotlib.pyplot as plt\n",
    "from matplotlib.animation import FuncAnimation\n",
    "import tf\n",
    "from tf.transformations import quaternion_matrix\n",
    "import numpy as np\n",
    "\n",
    "%matplotlib widget"
   ]
  },
  {
   "attachments": {},
   "cell_type": "markdown",
   "metadata": {},
   "source": [
    "Plotting Class"
   ]
  },
  {
   "cell_type": "code",
   "execution_count": 5,
   "metadata": {},
   "outputs": [],
   "source": [
    "class Visualiser:\n",
    "    def __init__(self):\n",
    "        self.fig, self.ax = plt.subplots()\n",
    "        self.ln, = plt.plot([], [], 'ro')\n",
    "        self.x_data, self.y_data = [] , []\n",
    "\n",
    "    def plot_init(self):\n",
    "        self.ax.set_xlim(-10, 10)\n",
    "        self.ax.set_ylim(-10, 10)\n",
    "        return self.ln\n",
    "\n",
    "    def odom_callback(self, msg):\n",
    "        self.y_data.append(msg.pose.pose.position.y)\n",
    "        self.x_data.append(msg.pose.pose.position.x)\n",
    "        \n",
    "    def update_plot(self, frame):\n",
    "        self.ln.set_data(self.x_data, self.y_data)\n",
    "        self.fig.canvas.draw()\n",
    "        return self.ln"
   ]
  },
  {
   "cell_type": "code",
   "execution_count": 6,
   "metadata": {},
   "outputs": [],
   "source": [
    "class RoboClient:\n",
    "    def __init__(self):\n",
    "        rospy.init_node('robo_client', anonymous=True)\n",
    "        \n",
    "        # Service client to get the goals info\n",
    "        self.goal_info_client = rospy.ServiceProxy(\"/goals_service\", GoalInfo)\n",
    "\n",
    "        # Dictionary to store the robot position\n",
    "        self. robo_position = {\n",
    "            \"x\": 0.0,\n",
    "            \"y\": 0.0\n",
    "        }\n",
    "        # Subscriber to get the robot position\n",
    "        self.robo_position_sub = rospy.Subscriber(\"/robot/robo_stats\", RoboStatusMsg, self.robo_position_callback)\n",
    "\n",
    "        # variable to store the closest obstacle, defined as infinity at the beginning\n",
    "        self.closest_obstacle = float(\"inf\")\n",
    "        # Subscriber to get the laser scan information for distance to obstacles\n",
    "        self.laser_scan_sub = rospy.Subscriber(\"/scan\", LaserScan, self.laser_scan_callback)\n",
    "\n",
    "        # Action client to send the goals\n",
    "        self.target_ac = actionlib.SimpleActionClient(\"/reaching_goal\", PlanningAction)\n",
    "        rospy.loginfo(\"Waiting for action server to start.\")\n",
    "        self.target_ac.wait_for_server()\n",
    "        rospy.loginfo(\"Action server started!\")\n",
    "\n",
    "        # Initialize the Visualizer\n",
    "        self.vis = Visualiser()\n",
    "        self.vis_sub = rospy.Subscriber(\"/odom\", Odometry, self.vis.odom_callback)\n",
    "        self.vis_ani = FuncAnimation(self.vis.fig, self.vis.update_plot, init_func=self.vis.plot_init, cache_frame_data=False)\n",
    "\n",
    "    def send_goal(self, x, y):\n",
    "        goal = PlanningGoal()\n",
    "        goal.target_pose.pose.position.x = x\n",
    "        goal.target_pose.pose.position.y = y\n",
    "        self.target_ac.send_goal(goal)\n",
    "\n",
    "        if rospy.has_param(\"/robot/goal_pos_param\"):\n",
    "            rospy.set_param(\"/robot/goal_pos_param/x_goal\", x)\n",
    "            rospy.set_param(\"/robot/goal_pos_param/y_goal\", y)\n",
    "        else:\n",
    "            rospy.logerr(\"Goal position parameter not found on the parameter server.\")\n",
    "\n",
    "    def cancel_goal(self):\n",
    "        if self.target_ac.get_state() == actionlib.GoalStatus.ACTIVE:\n",
    "            print(\"Cancelling current goal...\")\n",
    "            self.target_ac.cancel_goal()\n",
    "        else:\n",
    "            print(\"No goal is currently executing.\")\n",
    "    \n",
    "    def get_goal_info(self):\n",
    "        try:\n",
    "            goals_info_response = self.goal_info_client()\n",
    "            return goals_info_response.msg_feedback\n",
    "        except rospy.ServiceException as e:\n",
    "            print(\"Service call failed: %s\"%e)\n",
    "            return None\n",
    "\n",
    "    def robo_position_callback(self, msg):\n",
    "        self.robo_position[\"x\"] = msg.pos_x\n",
    "        self.robo_position[\"y\"] = msg.pos_y\n",
    "    \n",
    "    def get_robo_position(self):\n",
    "        return self.robo_position[\"x\"], self.robo_position[\"y\"]\n",
    "\n",
    "    def laser_scan_callback(self, msg):\n",
    "        self.closest_obstacle = min(msg.ranges)\n",
    "\n",
    "    def get_closest_obstacle(self):\n",
    "        return self.closest_obstacle\n",
    "\n",
    "    def spin(self):\n",
    "        rospy.spin()"
   ]
  },
  {
   "cell_type": "code",
   "execution_count": 7,
   "metadata": {},
   "outputs": [
    {
     "name": "stdout",
     "output_type": "stream",
     "text": [
      "[INFO] [1684080346.976152, 2224.436000]: Waiting for action server to start.\n",
      "[INFO] [1684080347.008852, 2224.465000]: Action server started!\n"
     ]
    },
    {
     "data": {
      "application/vnd.jupyter.widget-view+json": {
       "model_id": "37aa5fb524fc4662b2eabeb7e8a4b6f6",
       "version_major": 2,
       "version_minor": 0
      },
      "image/png": "[encoded data removed]",
      "text/html": [
       "\n",
       "            <div style=\"display: inline-block;\">\n",
       "                <div class=\"jupyter-widgets widget-label\" style=\"text-align: center;\">\n",
       "                    Figure\n",
       "                </div>\n",
       "                <img src='data:image/png;base64,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' width=640.0/>\n",
       "            </div>\n",
       "        "
      ],
      "text/plain": [
       "Canvas(toolbar=Toolbar(toolitems=[('Home', 'Reset original view', 'home', 'home'), ('Back', 'Back to previous …"
      ]
     },
     "metadata": {},
     "output_type": "display_data"
    },
    {
     "name": "stdout",
     "output_type": "stream",
     "text": [
      "Sending new goal: (2.0, -2.0)\n",
      "Sending new goal: (2.0, -5.0)\n",
      "Cancelling current goal...\n"
     ]
    }
   ],
   "source": [
    "robo_client = RoboClient()\n",
    "\n",
    "def on_send_button_click(button):\n",
    "    x = float(x_text.value)\n",
    "    y = float(y_text.value)\n",
    "    robo_client.send_goal(x, y)\n",
    "    print(f\"Sending new goal: ({x}, {y})\")\n",
    "\n",
    "def on_cancel_button_click(button):\n",
    "    robo_client.cancel_goal()\n",
    "\n",
    "x_text = widgets.FloatText(description=\"X:\")\n",
    "y_text = widgets.FloatText(description=\"Y:\")\n",
    "\n",
    "send_button = widgets.Button(description=\"Send Goal\")\n",
    "send_button.on_click(on_send_button_click)\n",
    "\n",
    "cancel_button = widgets.Button(description=\"Cancel Goal\")\n",
    "cancel_button.on_click(on_cancel_button_click)\n",
    "\n",
    "goal_ui = widgets.HBox([x_text, y_text, send_button, cancel_button])"
   ]
  },
  {
   "cell_type": "code",
   "execution_count": 8,
   "metadata": {},
   "outputs": [],
   "source": [
    "# Information Display UI\n",
    "\n",
    "# Widget to display the robot position\n",
    "robo_pos_widget_label = widgets.HTML(value=\"<p style='font-size: 14px;'><b>Robot position:</b> N/A</p>\")\n",
    "\n",
    "# Widget to display the closest obstacle\n",
    "closest_obstacle_widget_label = widgets.HTML(value=\"<p style='font-size: 14px;'><b>Distance to closest obstacle:</b> N/A</p>\")\n",
    "\n",
    "# Jupyter widget for goals reached and cancelled\n",
    "goal_info_widget_label = widgets.HTML(value=\"<p style='font-size: 14px;'><b>Goals reached:</b> N/A</p>\")\n",
    "\n",
    "# Combine the labels into a single UI using a VBox\n",
    "info_ui = widgets.VBox([robo_pos_widget_label, closest_obstacle_widget_label, goal_info_widget_label])"
   ]
  },
  {
   "cell_type": "code",
   "execution_count": 9,
   "metadata": {},
   "outputs": [
    {
     "data": {
      "application/vnd.jupyter.widget-view+json": {
       "model_id": "b530ac639de4408f8f07efcd980b22f7",
       "version_major": 2,
       "version_minor": 0
      },
      "text/plain": [
       "VBox(children=(HTML(value='<center><h2><u>Robot Controller Interface</u></h2></center>'), HBox(children=(Float…"
      ]
     },
     "metadata": {},
     "output_type": "display_data"
    }
   ],
   "source": [
    "# heading\n",
    "heading = widgets.HTML(value=\"<center><h2><u>Robot Controller Interface</u></h2></center>\")\n",
    "\n",
    "# Combine the goal UI and the information UI into a single UI using a VBox\n",
    "combined_ui = widgets.VBox([heading, goal_ui, info_ui])\n",
    "\n",
    "# Display the combined UI\n",
    "display(combined_ui)"
   ]
  },
  {
   "cell_type": "code",
   "execution_count": 10,
   "metadata": {},
   "outputs": [],
   "source": [
    "def updated_robo_position():\n",
    "    while not rospy.is_shutdown():\n",
    "        robo_x_pos, robo_y_pos = robo_client.get_robo_position()\n",
    "        robo_pos_widget_label.value = f\"Robot position: ({robo_x_pos:.2f}, {robo_y_pos:.2f})\"\n",
    "\n",
    "        closest_obstacle_dist = robo_client.get_closest_obstacle()\n",
    "        closest_obstacle_widget_label.value = f\"Distance to closest obstacle: {closest_obstacle_dist:.2f}\"\n",
    "\n",
    "        rospy.sleep(0.75)\n",
    "\n",
    "position_thread = Thread(target=updated_robo_position)\n",
    "position_thread.start()"
   ]
  },
  {
   "cell_type": "code",
   "execution_count": 11,
   "metadata": {},
   "outputs": [],
   "source": [
    "def update_goal_info():\n",
    "    while not rospy.is_shutdown():\n",
    "        goal_info = robo_client.get_goal_info()\n",
    "        if goal_info is not None:\n",
    "            goal_info_widget_label.value = f\"Goals Information: {goal_info}\"\n",
    "        rospy.sleep(0.75)\n",
    "\n",
    "goal_info_thread = Thread(target=update_goal_info)\n",
    "goal_info_thread.start()"
   ]
  },
  {
   "cell_type": "code",
   "execution_count": null,
   "metadata": {},
   "outputs": [],
   "source": []
  }
 ],
 "metadata": {
  "kernelspec": {
   "display_name": "Python 3 (ipykernel)",
   "language": "python",
   "name": "python3"
  },
  "language_info": {
   "codemirror_mode": {
    "name": "ipython",
    "version": 3
   },
   "file_extension": ".py",
   "mimetype": "text/x-python",
   "name": "python",
   "nbconvert_exporter": "python",
   "pygments_lexer": "ipython3",
   "version": "3.8.10"
  }
 },
 "nbformat": 4,
 "nbformat_minor": 2
}
