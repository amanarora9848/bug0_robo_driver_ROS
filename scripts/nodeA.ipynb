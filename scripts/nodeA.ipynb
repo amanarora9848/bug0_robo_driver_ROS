{
 "cells": [
  {
   "cell_type": "code",
   "execution_count": 1,
   "metadata": {},
   "outputs": [],
   "source": [
    "from threading import Thread\n",
    "import time\n",
    "import os"
   ]
  },
  {
   "cell_type": "code",
   "execution_count": 2,
   "metadata": {},
   "outputs": [],
   "source": [
    "import rospy\n",
    "import actionlib\n",
    "from assignment_2_2022.msg import PlanningAction, PlanningGoal\n",
    "from unige_rt1_assignment2.srv import GoalInfo\n",
    "from unige_rt1_assignment2.msg import RoboStatusMsg\n",
    "from sensor_msgs.msg import LaserScan"
   ]
  },
  {
   "cell_type": "code",
   "execution_count": 4,
   "metadata": {},
   "outputs": [],
   "source": [
    "import ipywidgets as widgets\n",
    "from IPython.display import display, clear_output\n",
    "from IPython.core.display import HTML\n",
    "from ipywidgets import Layout"
   ]
  },
  {
   "cell_type": "code",
   "execution_count": 6,
   "metadata": {},
   "outputs": [],
   "source": [
    "class RoboClient:\n",
    "    def __init__(self):\n",
    "        rospy.init_node('robo_client', anonymous=True)\n",
    "        \n",
    "        # Service client to get the goals info\n",
    "        self.goal_info_client = rospy.ServiceProxy(\"/goals_service\", GoalInfo)\n",
    "\n",
    "        # Dictionary to store the robot position\n",
    "        self. robo_position = {\n",
    "            \"x\": 0.0,\n",
    "            \"y\": 0.0\n",
    "        }\n",
    "        # Subscriber to get the robot position\n",
    "        self.robo_position_sub = rospy.Subscriber(\"/robot/robo_stats\", RoboStatusMsg, self.robo_position_callback)\n",
    "\n",
    "        # variable to store the closest obstacle, defined as infinity at the beginning\n",
    "        self.closest_obstacle = float(\"inf\")\n",
    "        # Subscriber to get the laser scan information for distance to obstacles\n",
    "        self.laser_scan_sub = rospy.Subscriber(\"/scan\", LaserScan, self.laser_scan_callback)\n",
    "\n",
    "        # Action client to send the goals\n",
    "        self.target_ac = actionlib.SimpleActionClient(\"/reaching_goal\", PlanningAction)\n",
    "        rospy.loginfo(\"Waiting for action server to start.\")\n",
    "        self.target_ac.wait_for_server()\n",
    "        rospy.loginfo(\"Action server started!\")\n",
    "\n",
    "    def send_goal(self, x, y):\n",
    "        goal = PlanningGoal()\n",
    "        goal.target_pose.pose.position.x = x\n",
    "        goal.target_pose.pose.position.y = y\n",
    "        self.target_ac.send_goal(goal)\n",
    "\n",
    "        if rospy.has_param(\"/robot/goal_pos_param\"):\n",
    "            rospy.set_param(\"/robot/goal_pos_param/x_goal\", x)\n",
    "            rospy.set_param(\"/robot/goal_pos_param/y_goal\", y)\n",
    "        else:\n",
    "            rospy.logerr(\"Goal position parameter not found on the parameter server.\")\n",
    "\n",
    "    def cancel_goal(self):\n",
    "        if self.target_ac.get_state() == actionlib.GoalStatus.ACTIVE:\n",
    "            print(\"Cancelling current goal...\")\n",
    "            self.target_ac.cancel_goal()\n",
    "        else:\n",
    "            print(\"No goal is currently executing.\")\n",
    "    \n",
    "    def get_goal_info(self):\n",
    "        try:\n",
    "            goals_info_response = self.goal_info_client()\n",
    "            return goals_info_response.msg_feedback\n",
    "        except rospy.ServiceException as e:\n",
    "            print(\"Service call failed: %s\"%e)\n",
    "            return None\n",
    "\n",
    "    def robo_position_callback(self, msg):\n",
    "        self.robo_position[\"x\"] = msg.pos_x\n",
    "        self.robo_position[\"y\"] = msg.pos_y\n",
    "    \n",
    "    def get_robo_position(self):\n",
    "        return self.robo_position[\"x\"], self.robo_position[\"y\"]\n",
    "\n",
    "    def laser_scan_callback(self, msg):\n",
    "        self.closest_obstacle = min(msg.ranges)\n",
    "\n",
    "    \n",
    "    def get_closest_obstacle(self):\n",
    "        return self.closest_obstacle\n",
    "\n",
    "    def spin(self):\n",
    "        rospy.spin()"
   ]
  },
  {
   "cell_type": "code",
   "execution_count": 7,
   "metadata": {},
   "outputs": [
    {
     "name": "stdout",
     "output_type": "stream",
     "text": [
      "[INFO] [1683392672.564516, 1625.492000]: Waiting for action server to start.\n",
      "[INFO] [1683392672.589452, 1625.517000]: Action server started!\n"
     ]
    }
   ],
   "source": [
    "robo_client = RoboClient()\n",
    "\n",
    "def on_send_button_click(button):\n",
    "    x = float(x_text.value)\n",
    "    y = float(y_text.value)\n",
    "    robo_client.send_goal(x, y)\n",
    "    print(f\"Sending new goal: ({x}, {y})\")\n",
    "\n",
    "def on_cancel_button_click(button):\n",
    "    robo_client.cancel_goal()\n",
    "\n",
    "x_text = widgets.FloatText(description=\"X:\")\n",
    "y_text = widgets.FloatText(description=\"Y:\")\n",
    "\n",
    "send_button = widgets.Button(description=\"Send Goal\")\n",
    "send_button.on_click(on_send_button_click)\n",
    "\n",
    "cancel_button = widgets.Button(description=\"Cancel Goal\")\n",
    "cancel_button.on_click(on_cancel_button_click)\n",
    "\n",
    "goal_ui = widgets.HBox([x_text, y_text, send_button, cancel_button])"
   ]
  },
  {
   "cell_type": "code",
   "execution_count": 8,
   "metadata": {},
   "outputs": [],
   "source": [
    "# Information Display UI\n",
    "\n",
    "# Widget to display the robot position\n",
    "robo_pos_widget_label = widgets.HTML(value=\"<p style='font-size: 14px;'><b>Robot position:</b> N/A</p>\")\n",
    "\n",
    "# Widget to display the closest obstacle\n",
    "closest_obstacle_widget_label = widgets.HTML(value=\"<p style='font-size: 14px;'><b>Distance to closest obstacle:</b> N/A</p>\")\n",
    "\n",
    "# Jupyter widget for goals reached and cancelled\n",
    "goal_info_widget_label = widgets.HTML(value=\"<p style='font-size: 14px;'><b>Goals reached:</b> N/A</p>\")\n",
    "\n",
    "# Combine the labels into a single UI using a VBox\n",
    "info_ui = widgets.VBox([robo_pos_widget_label, closest_obstacle_widget_label, goal_info_widget_label])"
   ]
  },
  {
   "cell_type": "code",
   "execution_count": 9,
   "metadata": {},
   "outputs": [
    {
     "data": {
      "application/vnd.jupyter.widget-view+json": {
       "model_id": "b5f3bc015f884d689b3ddbc7d9fd7a0e",
       "version_major": 2,
       "version_minor": 0
      },
      "text/plain": [
       "VBox(children=(HTML(value='<center><h2><u>Robot Controller Interface</u></h2></center>'), HBox(children=(Float…"
      ]
     },
     "metadata": {},
     "output_type": "display_data"
    }
   ],
   "source": [
    "# heading\n",
    "heading = widgets.HTML(value=\"<center><h2><u>Robot Controller Interface</u></h2></center>\")\n",
    "\n",
    "# Combine the goal UI and the information UI into a single UI using a VBox\n",
    "combined_ui = widgets.VBox([heading, goal_ui, info_ui])\n",
    "\n",
    "# Display the combined UI\n",
    "display(combined_ui)"
   ]
  },
  {
   "cell_type": "code",
   "execution_count": 11,
   "metadata": {},
   "outputs": [],
   "source": [
    "def updated_robo_position():\n",
    "    while not rospy.is_shutdown():\n",
    "        robo_x_pos, robo_y_pos = robo_client.get_robo_position()\n",
    "        robo_pos_widget_label.value = f\"Robot position: ({robo_x_pos:.2f}, {robo_y_pos:.2f})\"\n",
    "\n",
    "        closest_obstacle_dist = robo_client.get_closest_obstacle()\n",
    "        closest_obstacle_widget_label.value = f\"Distance to closest obstacle: {closest_obstacle_dist:.2f}\"\n",
    "\n",
    "        rospy.sleep(0.75)\n",
    "\n",
    "position_thread = Thread(target=updated_robo_position)\n",
    "position_thread.start()"
   ]
  },
  {
   "cell_type": "code",
   "execution_count": 12,
   "metadata": {},
   "outputs": [],
   "source": [
    "def update_goal_info():\n",
    "    while not rospy.is_shutdown():\n",
    "        goal_info = robo_client.get_goal_info()\n",
    "        if goal_info is not None:\n",
    "            goal_info_widget_label.value = f\"Goals Information: {goal_info}\"\n",
    "        rospy.sleep(0.75)\n",
    "\n",
    "goal_info_thread = Thread(target=update_goal_info)\n",
    "goal_info_thread.start()"
   ]
  },
  {
   "cell_type": "code",
   "execution_count": 3,
   "metadata": {},
   "outputs": [],
   "source": [
    "# from jupyros.ros1 import ros3d"
   ]
  },
  {
   "cell_type": "code",
   "execution_count": 5,
   "metadata": {},
   "outputs": [],
   "source": [
    "# # %matplotlib notebook\n",
    "# import numpy as np\n",
    "# import matplotlib.pyplot as plt"
   ]
  },
  {
   "cell_type": "code",
   "execution_count": 10,
   "metadata": {},
   "outputs": [],
   "source": [
    "# laserscan_output = widgets.Output()\n",
    "# display(laserscan_output)"
   ]
  },
  {
   "cell_type": "code",
   "execution_count": 13,
   "metadata": {},
   "outputs": [],
   "source": [
    "# def plot_robo_pos(robo_cli):\n",
    "#     fig, ax = plt.subplots()\n",
    "\n",
    "#     while not rospy.is_shutdown():\n",
    "#         clear_output(wait=True) # Clear the previous graph\n",
    "#         robo_x_pos, robo_y_pos = robo_cli.get_robo_position()\n",
    "\n",
    "#         ax.set_xlim(robo_x_pos - 10, robo_x_pos + 10)\n",
    "#         ax.set_ylim(robo_y_pos - 10, robo_y_pos + 10)\n",
    "\n",
    "#         ax.plot(robo_x_pos, robo_y_pos, \"bo\", markersize=10, label=\"Robot Position\")\n",
    "#         ax.legend()\n",
    "\n",
    "#         plt.grid(True)\n",
    "#         plt.xlabel(\"X\")\n",
    "#         plt.ylabel(\"Y\")\n",
    "#         plt.title(\"Robot Position\")\n",
    "\n",
    "#         plt.pause(0.1)\n",
    "    \n",
    "#     plt.close(fig)"
   ]
  },
  {
   "cell_type": "code",
   "execution_count": 22,
   "metadata": {},
   "outputs": [],
   "source": [
    "# %matplotlib notebook\n",
    "\n",
    "# import matplotlib.pyplot as plt\n",
    "\n",
    "# def plot_robot_position(client):\n",
    "#     fig, ax = plt.subplots()\n",
    "#     robot_position_plot, = ax.plot([], [], 'bo', markersize=10, label='Robot Position')\n",
    "#     ax.legend()\n",
    "#     plt.grid(True)\n",
    "#     plt.xlabel(\"X-axis\")\n",
    "#     plt.ylabel(\"Y-axis\")\n",
    "#     plt.title(\"Real-time Robot Position\")\n",
    "\n",
    "#     while not rospy.is_shutdown():\n",
    "#         robo_x_pos, robo_y_pos = client.get_robo_position()\n",
    "\n",
    "#         # Set axis limits\n",
    "#         ax.set_xlim(robo_x_pos - 10, robo_x_pos + 10)\n",
    "#         ax.set_ylim(robo_y_pos - 10, robo_y_pos + 10)\n",
    "\n",
    "#         # Update the robot position\n",
    "#         robot_position_plot.set_data(robo_x_pos, robo_y_pos)\n",
    "\n",
    "#         fig.canvas.draw()\n",
    "#         fig.canvas.flush_events()\n",
    "#         time.sleep(0.1)\n",
    "\n",
    "#     plt.close(fig)\n",
    "\n",
    "# plot_position_thread = Thread(target=plot_robot_position, args=(robo_client,))\n",
    "# plot_position_thread.start()\n"
   ]
  },
  {
   "cell_type": "code",
   "execution_count": 30,
   "metadata": {},
   "outputs": [],
   "source": [
    "# v = ros3d.Viewer()\n",
    "# v.layout = Layout(border=\"3px solid red\", width=\"200px\", height=\"50px\")\n",
    "# rc = ros3d.ROSConnection(url=\"ws://localhost:9090\")\n",
    "# tf_client = ros3d.TFClient(ros=rc, fixed_frame='')\n",
    "\n",
    "# laser_view = ros3d.LaserScan(topic=\"/scan\", ros=rc, tf_client=tf_client)\n",
    "# g = ros3d.GridModel()\n",
    "# v.objects = [g, laser_view]\n",
    "\n",
    "# v"
   ]
  },
  {
   "cell_type": "code",
   "execution_count": null,
   "metadata": {},
   "outputs": [],
   "source": []
  }
 ],
 "metadata": {
  "kernelspec": {
   "display_name": "Python 3 (ipykernel)",
   "language": "python",
   "name": "python3"
  },
  "language_info": {
   "codemirror_mode": {
    "name": "ipython",
    "version": 3
   },
   "file_extension": ".py",
   "mimetype": "text/x-python",
   "name": "python",
   "nbconvert_exporter": "python",
   "pygments_lexer": "ipython3",
   "version": "3.8.10"
  }
 },
 "nbformat": 4,
 "nbformat_minor": 2
}
