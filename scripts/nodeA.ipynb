{
 "cells": [
  {
   "attachments": {},
   "cell_type": "markdown",
   "metadata": {},
   "source": [
    "##### Python imports:"
   ]
  },
  {
   "cell_type": "code",
   "execution_count": 1,
   "metadata": {},
   "outputs": [],
   "source": [
    "from threading import Thread\n",
    "import time\n",
    "import os"
   ]
  },
  {
   "attachments": {},
   "cell_type": "markdown",
   "metadata": {},
   "source": [
    "##### ROS Specific Imports:"
   ]
  },
  {
   "cell_type": "code",
   "execution_count": 2,
   "metadata": {},
   "outputs": [],
   "source": [
    "import rospy\n",
    "import actionlib\n",
    "from assignment_2_2022.msg import PlanningAction, PlanningGoal\n",
    "from unige_rt1_assignment2.srv import GoalInfo\n",
    "from unige_rt1_assignment2.msg import RoboStatusMsg\n",
    "from sensor_msgs.msg import LaserScan\n",
    "\n",
    "from nav_msgs.msg import Odometry"
   ]
  },
  {
   "attachments": {},
   "cell_type": "markdown",
   "metadata": {},
   "source": [
    "##### Jupyter and Widgets imports"
   ]
  },
  {
   "cell_type": "code",
   "execution_count": 3,
   "metadata": {},
   "outputs": [],
   "source": [
    "import ipywidgets as widgets\n",
    "from IPython.display import display, clear_output\n",
    "from IPython.core.display import HTML\n",
    "from ipywidgets import Layout"
   ]
  },
  {
   "attachments": {},
   "cell_type": "markdown",
   "metadata": {},
   "source": [
    "##### Imports for plotting and visualizations"
   ]
  },
  {
   "cell_type": "code",
   "execution_count": 4,
   "metadata": {},
   "outputs": [],
   "source": [
    "import matplotlib.pyplot as plt\n",
    "from matplotlib.animation import FuncAnimation\n",
    "import tf\n",
    "from tf.transformations import quaternion_matrix\n",
    "import numpy as np\n",
    "\n",
    "%matplotlib widget"
   ]
  },
  {
   "attachments": {},
   "cell_type": "markdown",
   "metadata": {},
   "source": [
    "##### Plotting Class for the Robot real-time position and goal position."
   ]
  },
  {
   "cell_type": "code",
   "execution_count": 5,
   "metadata": {},
   "outputs": [],
   "source": [
    "class Visualiser:\n",
    "    def __init__(self):\n",
    "        self.fig, self.ax = plt.subplots()\n",
    "        self.ln, = plt.plot([], [], 'ro')\n",
    "        self.x_data, self.y_data = [] , []\n",
    "\n",
    "    def plot_init(self):\n",
    "        self.ax.set_xlim(-10, 10)\n",
    "        self.ax.set_ylim(-10, 10)\n",
    "        return self.ln\n",
    "\n",
    "    def odom_callback(self, msg):\n",
    "        \"\"\"\n",
    "        Function to get and plot on the same plot the robot position from the odometry topic.\n",
    "        \"\"\"\n",
    "        self.y_data.append(msg.pose.pose.position.y)\n",
    "        self.x_data.append(msg.pose.pose.position.x)\n",
    "\n",
    "    def get_goal_pos(self):\n",
    "        \"\"\"\n",
    "        Function to get and plot on the same plot the goal position from the parameter server.\n",
    "        \"\"\"\n",
    "        self.x_goal_pos = rospy.get_param(\"/robot/goal_pos_param/x_goal\")\n",
    "        self.y_goal_pos = rospy.get_param(\"/robot/goal_pos_param/y_goal\")\n",
    "        self.ax.plot(self.x_goal_pos, self.y_goal_pos, 'bo')\n",
    "        \n",
    "    def update_plot(self, frame):\n",
    "        \"\"\"\n",
    "        Function to update the plot.\n",
    "        \"\"\"\n",
    "        self.ln.set_data(self.x_data, self.y_data)\n",
    "        self.get_goal_pos()\n",
    "        self.fig.canvas.draw()\n",
    "        return self.ln"
   ]
  },
  {
   "attachments": {},
   "cell_type": "markdown",
   "metadata": {},
   "source": [
    "##### Plotting class for the goals reached and cancelled. Real-time pie chart."
   ]
  },
  {
   "cell_type": "code",
   "execution_count": 6,
   "metadata": {},
   "outputs": [],
   "source": [
    "class goal_info_plot:\n",
    "    # Animated pie chart for goals reached and cancelled\n",
    "    def __init__(self):\n",
    "        self.fig, self.ax = plt.subplots()\n",
    "        self.labels = ['Goals Reached', 'Goals Cancelled']\n",
    "        self.colors = ['green', 'red']\n",
    "        self.goals_data = [1]  # Initialize with a single category\n",
    "        self.wedges, self.texts, self.autotexts = self.ax.pie(self.goals_data, colors=['darkviolet'], labels=['Violet-disk! => no goals yet.'], autopct='%1.1f%%')\n",
    "        self.ax.axis('equal')\n",
    "\n",
    "    def update_plot(self, reached, cancelled):\n",
    "        \"\"\"\n",
    "        Function to update the plot.\n",
    "        \"\"\"\n",
    "        self.ax.clear()\n",
    "        if reached or cancelled:  # if at least one value is non-zero\n",
    "            self.goals_data = [reached, cancelled]\n",
    "            self.wedges, self.texts, self.autotexts = self.ax.pie(self.goals_data, labels=self.labels, colors=self.colors, autopct='%1.1f%%')\n",
    "        else:  # if both values are zero\n",
    "            self.goals_data = [1]\n",
    "            self.wedges, self.texts, self.autotexts = self.ax.pie(self.goals_data, colors=['darkviolet'], labels=['Violet-disk! => no goals yet.'], autopct='%1.1f%%')\n",
    "        self.ax.axis('equal')\n",
    "        self.fig.canvas.draw()\n"
   ]
  },
  {
   "attachments": {},
   "cell_type": "markdown",
   "metadata": {},
   "source": [
    "##### Visualization Class for the Laser Scan:"
   ]
  },
  {
   "cell_type": "code",
   "execution_count": 7,
   "metadata": {},
   "outputs": [],
   "source": [
    "class LaserScanVis:\n",
    "    def __init__(self):\n",
    "        self.fig, self.ax = plt.subplots()\n",
    "        self.ln, = plt.plot([], [], 'b.')\n",
    "        self.angle_data = []\n",
    "        self.range_data = []\n",
    "\n",
    "    def plot_init(self):\n",
    "        \"\"\"\n",
    "        Function to initialize the plot.\n",
    "        \"\"\"\n",
    "        self.ax.set_xlim(-7,7)\n",
    "        self.ax.set_ylim(-7,7)\n",
    "        return self.ln\n",
    "\n",
    "    def laser_scan_callback(self, msg):\n",
    "        \"\"\"\n",
    "        Function to get and plot on the same plot the laser scan data.\n",
    "        \"\"\"\n",
    "        angle_increment = msg.angle_increment\n",
    "        self.angle_data = [msg.angle_min + i * angle_increment for i in range(len(msg.ranges))]\n",
    "        self.range_data = msg.ranges\n",
    "    \n",
    "    def update_plot(self, frame):\n",
    "        \"\"\"\n",
    "        Function to update the plot.\n",
    "        \"\"\"\n",
    "        x_data = [r * np.cos(theta) for r, theta in zip(self.range_data, self.angle_data)]\n",
    "        y_data = [r * np.sin(theta) for r, theta in zip(self.range_data, self.angle_data)]\n",
    "        self.ln.set_data(x_data, y_data)\n",
    "        return self.ln,"
   ]
  },
  {
   "attachments": {},
   "cell_type": "markdown",
   "metadata": {},
   "source": [
    "##### The RoboClient class is the main class of the node. It is responsible for the communication with the server and the visualization of the robot and the laser scan."
   ]
  },
  {
   "cell_type": "code",
   "execution_count": 8,
   "metadata": {},
   "outputs": [],
   "source": [
    "class RoboClient:\n",
    "    def __init__(self):\n",
    "        rospy.init_node('robo_client', anonymous=True)\n",
    "        \n",
    "        # Service client to get the goals info\n",
    "        self.goal_info_client = rospy.ServiceProxy(\"/goals_service\", GoalInfo)\n",
    "\n",
    "        # Dictionary to store the robot position\n",
    "        self. robo_position = {\n",
    "            \"x\": 0.0,\n",
    "            \"y\": 0.0\n",
    "        }\n",
    "        # Subscriber to get the robot position\n",
    "        self.robo_position_sub = rospy.Subscriber(\"/robot/robo_stats\", RoboStatusMsg, self.robo_position_callback)\n",
    "\n",
    "        # variable to store the closest obstacle, defined as infinity at the beginning\n",
    "        self.closest_obstacle = float(\"inf\")\n",
    "        # Subscriber to get the laser scan information for distance to obstacles\n",
    "        self.laser_scan_sub = rospy.Subscriber(\"/scan\", LaserScan, self.laser_scan_callback)\n",
    "\n",
    "        # Action client to send the goals\n",
    "        self.target_ac = actionlib.SimpleActionClient(\"/reaching_goal\", PlanningAction)\n",
    "        rospy.loginfo(\"Waiting for action server to start.\")\n",
    "        self.target_ac.wait_for_server()\n",
    "        rospy.loginfo(\"Action server started!\")\n",
    "\n",
    "        # Initialize the (odom) Visualizer\n",
    "        self.vis = Visualiser()\n",
    "        self.vis_sub = rospy.Subscriber(\"/odom\", Odometry, self.vis.odom_callback)\n",
    "        self.vis_ani = FuncAnimation(self.vis.fig, self.vis.update_plot, init_func=self.vis.plot_init, cache_frame_data=False)\n",
    "\n",
    "        # Initialize Laser Scan (obstacle) visualizer\n",
    "        self.vis_laserscan = LaserScanVis()\n",
    "        self.laser_sub = rospy.Subscriber(\"/scan\", LaserScan, self.vis_laserscan.laser_scan_callback)\n",
    "        self.laser_ani = FuncAnimation(self.vis_laserscan.fig, self.vis_laserscan.update_plot, init_func=self.vis_laserscan.plot_init, cache_frame_data=False)\n",
    "\n",
    "\n",
    "    def send_goal(self, x, y):\n",
    "        \"\"\"\n",
    "        Function to send a goal to the action server.\n",
    "        \"\"\"\n",
    "        goal = PlanningGoal()\n",
    "        goal.target_pose.pose.position.x = x\n",
    "        goal.target_pose.pose.position.y = y\n",
    "        self.target_ac.send_goal(goal, done_cb=self.goal_task_fin_cb)\n",
    "\n",
    "        if rospy.has_param(\"/robot/goal_pos_param\"):\n",
    "            rospy.set_param(\"/robot/goal_pos_param/x_goal\", x)\n",
    "            rospy.set_param(\"/robot/goal_pos_param/y_goal\", y)\n",
    "        else:\n",
    "            rospy.logerr(\"Goal position parameter not found on the parameter server.\")\n",
    "\n",
    "    def cancel_goal(self):\n",
    "        \"\"\"\n",
    "        Function to cancel the current goal.\n",
    "        \"\"\"\n",
    "        if self.target_ac.get_state() == actionlib.GoalStatus.ACTIVE:\n",
    "            print(\"Cancelling current goal...\")\n",
    "            self.target_ac.cancel_goal()\n",
    "        else:\n",
    "            print(\"No goal is currently executing.\")\n",
    "    \n",
    "    def goal_task_fin_cb(self, state, result):\n",
    "        if state == actionlib.GoalStatus.SUCCEEDED:\n",
    "            print(\"Goal reached!\")\n",
    "            send_button.layout.visibility = 'visible'\n",
    "            cancel_button.layout.visibility = 'hidden'\n",
    "        elif state == actionlib.GoalStatus.PREEMPTED:\n",
    "            print(\"Goal cancelled!\")\n",
    "            send_button.layout.visibility = 'visible'\n",
    "            cancel_button.layout.visibility = 'hidden'\n",
    "\n",
    "    def get_goal_info(self):\n",
    "        try:\n",
    "            goals_info_response = self.goal_info_client()\n",
    "            return goals_info_response.msg_feedback\n",
    "        except rospy.ServiceException as e:\n",
    "            print(\"Service call failed: %s\"%e)\n",
    "            return None\n",
    "\n",
    "    def robo_position_callback(self, msg):\n",
    "        self.robo_position[\"x\"] = msg.pos_x\n",
    "        self.robo_position[\"y\"] = msg.pos_y\n",
    "    \n",
    "    def get_robo_position(self):\n",
    "        return self.robo_position[\"x\"], self.robo_position[\"y\"]\n",
    "\n",
    "    def laser_scan_callback(self, msg):\n",
    "        self.closest_obstacle = min(msg.ranges)\n",
    "\n",
    "    def get_closest_obstacle(self):\n",
    "        return self.closest_obstacle\n",
    "\n",
    "    def spin(self):\n",
    "        rospy.spin()"
   ]
  },
  {
   "attachments": {},
   "cell_type": "markdown",
   "metadata": {},
   "source": [
    "#### This cell is to:\n",
    "    + Instantiate the RoboClient class (initializing the node)\n",
    "    + Definitions for the button send and cancel button callbacks"
   ]
  },
  {
   "cell_type": "code",
   "execution_count": 9,
   "metadata": {},
   "outputs": [
    {
     "name": "stdout",
     "output_type": "stream",
     "text": [
      "[INFO] [1685641018.621900, 1224.108000]: Waiting for action server to start.\n",
      "[INFO] [1685641018.676482, 1224.159000]: Action server started!\n"
     ]
    },
    {
     "data": {
      "application/vnd.jupyter.widget-view+json": {
       "model_id": "0c21407ac0004e92b942e77a1d62242e",
       "version_major": 2,
       "version_minor": 0
      },
      "image/png": "[encoded data removed]",
      "text/html": [
       "\n",
       "            <div style=\"display: inline-block;\">\n",
       "                <div class=\"jupyter-widgets widget-label\" style=\"text-align: center;\">\n",
       "                    Figure\n",
       "                </div>\n",
       "                <img src='data:image/png;base64,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' width=640.0/>\n",
       "            </div>\n",
       "        "
      ],
      "text/plain": [
       "Canvas(toolbar=Toolbar(toolitems=[('Home', 'Reset original view', 'home', 'home'), ('Back', 'Back to previous …"
      ]
     },
     "metadata": {},
     "output_type": "display_data"
    },
    {
     "data": {
      "application/vnd.jupyter.widget-view+json": {
       "model_id": "70225e3d86294247bd7c069e91134f86",
       "version_major": 2,
       "version_minor": 0
      },
      "image/png": "[encoded data removed]",
      "text/html": [
       "\n",
       "            <div style=\"display: inline-block;\">\n",
       "                <div class=\"jupyter-widgets widget-label\" style=\"text-align: center;\">\n",
       "                    Figure\n",
       "                </div>\n",
       "                <img src='data:image/png;base64,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' width=640.0/>\n",
       "            </div>\n",
       "        "
      ],
      "text/plain": [
       "Canvas(toolbar=Toolbar(toolitems=[('Home', 'Reset original view', 'home', 'home'), ('Back', 'Back to previous …"
      ]
     },
     "metadata": {},
     "output_type": "display_data"
    },
    {
     "name": "stdout",
     "output_type": "stream",
     "text": [
      "Goal cancelled!\n"
     ]
    }
   ],
   "source": [
    "robo_client = RoboClient()\n",
    "\n",
    "def on_send_button_click(button):\n",
    "    \"\"\"\n",
    "    Function to send a goal to the action server.\n",
    "    \"\"\"\n",
    "    x = float(x_text.value)\n",
    "    y = float(y_text.value)\n",
    "    robo_client.send_goal(x, y)\n",
    "    print(f\"Sending new goal: ({x}, {y})\")\n",
    "\n",
    "    # hide send button, reveal the cancel button\n",
    "    send_button.layout.visibility = 'hidden'\n",
    "    cancel_button.layout.visibility = 'visible'\n",
    "\n",
    "def on_cancel_button_click(button):\n",
    "    \"\"\"\n",
    "    Function to cancel the current goal.\n",
    "    \"\"\"\n",
    "    robo_client.cancel_goal()\n",
    "\n",
    "    # hide cancel button, reveal the send button\n",
    "    cancel_button.layout.visibility = 'hidden'\n",
    "    send_button.layout.visibility = 'visible'"
   ]
  },
  {
   "cell_type": "code",
   "execution_count": 10,
   "metadata": {},
   "outputs": [
    {
     "data": {
      "application/vnd.jupyter.widget-view+json": {
       "model_id": "bd02fa89fd3246f696cbf4bf5268c5be",
       "version_major": 2,
       "version_minor": 0
      },
      "text/plain": [
       "VBox(children=(HTML(value=\"<center><h2 style='color: #4B0082;'><u>Robot Controller Interface</u></h2></center>…"
      ]
     },
     "metadata": {},
     "output_type": "display_data"
    },
    {
     "data": {
      "application/vnd.jupyter.widget-view+json": {
       "model_id": "493d5eed0d0b4013a7872bbb80d49b7a",
       "version_major": 2,
       "version_minor": 0
      },
      "image/png": "[encoded data removed]",
      "text/html": [
       "\n",
       "            <div style=\"display: inline-block;\">\n",
       "                <div class=\"jupyter-widgets widget-label\" style=\"text-align: center;\">\n",
       "                    Figure\n",
       "                </div>\n",
       "                <img src='data:image/png;base64,iVBORw0KGgoAAAANSUhEUgAAAoAAAAHgCAYAAAA10dzkAAAAOXRFWHRTb2Z0d2FyZQBNYXRwbG90bGliIHZlcnNpb24zLjcuMSwgaHR0cHM6Ly9tYXRwbG90bGliLm9yZy/bCgiHAAAACXBIWXMAAA9hAAAPYQGoP6dpAAA0C0lEQVR4nO3dd5iU5b2H8e/MbO+VtrCsIL1IEQQ7ChJRLPGgEVQwUUOMybGgSFQUsZtEk2MswRPQIIo5JqIgAiKYBKUIgggrHbbAFpbtfWfm/AFuRFhg2Zl93pn3/lwXFwLD7g+v5eGe93mLw+v1egUAAADbcJoeAAAAAK2LAAQAALAZAhAAAMBmCEAAAACbIQABAABshgAEAACwGQIQAADAZghAAAAAmyEAAQAAbIYABAAAsBkCEAAAwGYIQAAAAJshAAEAAGyGAAQAALAZAhAAAMBmCEAAAACbIQABAABshgAEAACwGQIQAADAZghAAAAAmyEAAQAAbIYABAAAsBkCEAAAwGYIQAAAAJshAAEAAGyGAAQAALAZAhAAAMBmCEAAAACbIQABAABshgAEAACwGQIQAADAZghAAAAAmyEAAQAAbIYABAAAsBkCEAAAwGYIQAAAAJshAAEAAGyGAAQAALAZAhAAAMBmCEAAAACbIQABAABshgAEAACwGQIQAADAZghAAAAAmyEAAQAAbIYABAAAsBkCEAAAwGYIQAAAAJshAAEAAGyGAAQAALAZAhAAAMBmCEAAAACbIQABAABshgAEAACwGQIQAADAZghAAAAAmyEAAQAAbIYABAAAsBkCEAAAwGYIQAAAAJshAAEAAGyGAAQAALAZAhAAAMBmCEAAAACbIQABAABshgAEAACwGQIQAADAZghAAAAAmyEAAQAAbIYABAAAsBkCEAAAwGYIQAAAAJshAAEAAGwmxPQAAOBvdeVuVeU1qK7Uo7pyt+rLPaqv8KjuyPf15W7VV3jkrvXK69GRb15JksPpkMMpOZySK9yh0BinQmNdCo1xKizWeeTHToXFuhQW71RUuxCFxboM/4kB4MQIQAABrabYrZJttSrdVafK3HpVHWhQ5YEGVR2oP/J9g+orPK06U2iMU1HtQxTdPkRR7UMPf98hRNEdQhXfNUwJPcIVkUgkAjDH4fV6vaaHAIATcdd7VbKt9vC37XUq2f6f/64pcpse77REJLuU0CNcCd3DlND9yPc9wpXQI1yuUIfp8QAEOQIQgKW467069E2NCtdXq2D94e+Lvq6Ru9YeS5Ur3KHk/hFKHRypNoMPf5/UN4IoBOBTBCAAoypy6pW7okIHVlWpcH2NijbbJ/ZOlSvcoeR+EUodHKH250UpbUSMYjqGmh4LQAAjAAG0qu+CL3dlpXJXVqpsd73pkQJSXJdQpV0cffgbQQigmQhAAH5VV+FW9pIK7VtcodwVFQSfn8R1DVPHEdFK/1GMOo2OUVgMF5kAaBoBCMDnKnLqteeDMu39oFy5KyvZ0m1lrnCH0kZEK2NsrM64Ko6jgwCOQQAC8ImC9dWN0XdwY43pcfA9KQMilHFVrLpcHafUQZGmxwFgAQQggNNWuqtW2+aWavtbJSrdUWd6HJyC+G5h6j4hQT1uild813DT4wAwhAAE0CzVhQ3aMb9U2+eWKH9Ntelx0AJth0Wq+4QEdftJvCJTeC4AYCcEIICTctd5tPsf5dr2ZrGyl1bI02B6IviSM0TqdFmMetySqC7XxsoVxmPigWBHAAJoUumuWm15rVjfzilWdWFgPnEDzROZ6lLPWxPV545EtoiBIEYAAjiK1+PV3kXl2vzSIWUvq5BYIezJIaVfFqO+v0xSxhWxcjh5EgkQTAhAAJKk2hK3tr5erG9eLlLZHu7Vh/+IOyNUfe9MVu/bEhWewP0FgWBAAAI2V5lXr00vFOmbVw6pvtxjehxYWFicU30mJ+mse5IV3Y57CwKBjAAEbKp0d52+ev6gvp1TLHcNywBOnSvCoZ6TEjXogRTFnRFmehwAp4EABGymaHON1j9TqJ3zS+Xlug60gMMlnXlDvAY/mKrkfhGmxwHQDAQgYBNFm2u0+uF87f2wnAs74FsOKWNsrIY92VbJfQlBIBAQgECQK9tbp7XTC7T9rRJ5OcUPfuRwSt1vStDQx9sorjNbw4CVEYBAkKoubNCXTxbqm1cOyVPHX3O0HmeYQ31/kaSzH07lCSOARRGAQJCpq3Br4++KtPF3B7mqF0aFxjo1cEqKzro3WWEx3D4GsBICEAgSXq9XmbNLtHpanqoLuLoD1hHZxqVhT7dTr1sT5HBwQ2nACghAIAgUflWtz+7cr/zV1aZHAZrUbnikLvxTB6UOjDQ9CmB7BCAQwGqK3VrzUL62vHaICzwQEBxOqc/kJA17si1PFQEMIgCBAOT1epX5l2Ktnpav6kK2exF4IlNdGvYM28KAKQQgEGCKttRoxW25bPciKLQbHqmLZ6UpuQ/3DwRaEwEIBAiP26sNzxZq3YxCbuuCoOIKd2jIo2008IEUOV0cDQRaAwEIBIBDW2u0fFKuCtZx1A/Bq82QSF06J01JvTkaCPgbAQhYmMft1VfPH9S6xwrkruWvKoKfK9yhIY+10cD7ORoI+BMBCFjUocwjR/3WctQP9tNm6JGjgb04Ggj4AwEIWNA3rxTp3/fmyV3DX0/YlyvCofNfaK++k5NMjwIEHQIQsJDaUrdW3JarXf9XZnoUwDK6jovTiFlpCo/nvoGArxCAgEXkr6vS0huyVban3vQogOXEdQnV6PnpanM2TxEBfIEABCxg4+8P6osH8+Wp568j0BRnmEPDn2mrAfekmB4FCHgEIGBQzaEGLZ+Uq70flpseBQgYGWNjdemcNEUkhZgeBQhYBCBgSNHmGn109T62fIHTEHdGqMYs6KzkflwlDJwOAhAwYPf7Zfrk5hzVV3hMjwIErNAYp0bO7aguV8eZHgUIOE7TAwB2s25mgRb/OIv4A1qovsKjxddm6csnCkyPAgQcjgACraS+yqNPb83Rzne5xQvga2deH6dLZndUaBTHNYBTQQACraA8u04fXZ2lg1/VmB4FCFqpgyJ0+fvpiu0UZnoUwPIIQMDPCr+q1oeX71N1foPpUYCgF9k2RGMXd1bqQO4XCJwIAQj4UfbyCi2+Nkv15ZzvB7SW0Finxryfro6XxJgeBbAsAhDwkx3vluqTm3PkqeOvGNDanGEOjZrbUWeOizc9CmBJnC0L+MHXLxVp2Y3ZxB9giKfOq6U/ydbmPxWZHgWwJAIQ8LHVD+frX786IC+7voBRXo/0z7sOaM0j+aZHASyHLWDAR7wer1b+fL+2vl5sehQAP9D79kRd/GoHOZwO06MAlkAAAj7gcXu1fGKOtr9VanoUAE3oPiFel77RUU4XEQgQgEALeRq8WnZTjnbOJ/4Aq+v2k3iNnEsEAgQg0AKeBq+Wjs/Wrr/xdA8gUHQdF6fL5nWSM4QIhH1xEQhwmjxur5ZNIP6AQLPrb2VadlOOPG6Of8C+CEDgNHjcXn1yM8/1BQLVzvml+uSWHHk9RCDsiQAEmsnr9erTn+Zqx9uc8wcEsh3zSvXpT3PFmVCwIwIQaKZV9+Vp25slpscA4APfvlGiVVPyTI8BtDoCEGiGDc8VatMLPFkACCabfl+kDc8Xmh4DaFVcBQycom/fKNbyW3Ml/sYAwcchXTonTT1vSTQ9CdAqCEDgFOz9qFyLr94nT4PpSQD4izNEunxBZ2WMiTU9CuB3bAEDJ5G3ukpLxmURf0CQ8zRIS8ZlKW9NlelRAL8jAIETKN5Wq0VX7lNDFQfKATtoqPJq0RX7VLyt1vQogF8RgEATakvcWjR2n2qK3KZHAdCKaorc+uiqfaot4e8+ghcBCByHx+3VkhuyVbqjzvQoAAwo2V6nJTdk87QQBC0CEDiOz6fkKXtphekxABiUvbRCn9/PPQIRnAhA4AcyZxdr04vc6w+AtOmFImXOKTY9BuBz3AYG+J4Dn1fp/RF75KnjrwWAw1zhDl2z4gy1Gx5lehTAZzgCCBxRnl2nxT/OIv4AHMVd69XiH2epIqfe9CiAzxCAgCR3vVdLxmWrOp+b/QE4VlVegz7+ryy563mDiOBAAAKSVk/LU/6aatNjALCw/DXVWv2bfNNjAD5BAML29i4q18bfc9EHgJPb+LuD2vtRuekxgBYjAGFrFbn1Wj4xR2JXB8Cp8ErLJ+aoIpfzARHYCEDYlsft1dIbs3nSB4BmqTno1rLx3CQagY0AhG2te6xAB/7FQ98BNN/+f1Zp3YwC02MAp437AMKWcj6t0Aej9srrMT0JgEDlcEpXfZKhjiNiTI8CNBtHAGE7dWVuLb81l/gD0CJej7R8Uq7qyjmNBIGHAITtrJqSp4osTuAG0HIVWfVaNYXnBSPwEICwlayl5do6i+d6AvCdrX8uVvayCtNjAM1CAMI26srcWnHbftNjAAhCn96Wq7oytoIROAhA2Maq+/JUkc3WLwDfYysYgYYAhC1kLSnX1tfZ+gXgP1tnFStrKU8JQWAgABH06ircWnE7W78A/G/FbftVV8FWMKyPAETQWzejkK1fAK2iIrteXz5eaHoM4KQIQAS1Q5k1+voPRabHAGAjm14s0qHMGtNjACdEACKo/fOuA/LU87AbAK3HU+/Vv351wPQYwAkRgAhaO+aXKvfTStNjALChnOWV2vFuqekxgCYRgAhKdRVurbqPd+AAzPn8vgOqr+SZk7AmAhBB6cvHC1WZ22B6DAA2VpHToHWPF5geAzguAhBBp3hbrTa9yIUfAMzb9EKRirfVmh4DOAYBiKCz+jf5XPgBwBI89V6teSjf9BjAMQhABJW8NVXa/fcy02MAQKNd75Upf22V6TGAoxCACCqrH+SdNgDr+YK1CRZDACJo7Pu4XLkrue0LAOvJXVGprCU8JxjWQQAiKHi9Xq2exjtsANb1xYP58no5PxnWQAAiKOx4u1QHN/LoJQDWdXBjjXa8w82hYQ0EIAKeu96rNY9w9A+A9a15pEBu7lIACyAAEfC2zy1R2e5602MAwEmV7arT9rdKTI8BEIAIbF6PVxueLTQ9BgCcsq+ePSivh6OAMIsAREDb/Y8ylWyrMz0GAJyy4m9rtft97lcKswhABLT1T3P0D0Dg2fD0QdMjwOYIQASsrKXlKlzPlb8AAk/Bl9XKXlZhegzYGAGIgMU7aACBjB0MmEQAIiDlra7iqR8AAlruikrlreEZwTCDAERA+uo5jv4BCHysZTCFAETAKc+q054PuIIOQODbs6BM5VncyQCtjwBEwPnm5UPyuk1PAQAt53VL37xyyPQYsCECEAGlocajra8Xmx4DAHxm6+vFaqjxmB4DNkMAIqDsfLdUNUUc/gMQPGoOurXz3VLTY8BmCEAElC2vslUCIPhseY2dDbQuAhAB4+DXNcr7otr0GADgc3mfV6loMze2R+shABEwtrzG0T8AwesbdjjQighABAR3rUc75pWYHgMA/GbH26Vy13ExCFoHAYiAsHdRuWpLWBgBBK/aYrf2LeL5wGgdBCACwva5XCEHIPhtm1tiegTYBAEIy6stcWvfR+WmxwAAv9u3qFy1JdzqCv5HAMLydv6tVO5ar+kxAMDv3LVe7fo/djzgfwQgLG/7WyWmRwCAVrP9LQIQ/kcAwtLKs+u0/59VpscAgFaT+1mlyrPrTI+BIEcAwtJ2zCuV2P0FYCfew7eEAfyJAISl7f5HmekRAKDVsfbB3whAWFZVfoPy1/LoNwD2U7C2WlX5DabHQBAjAGFZexeWsf0LwJa8nsM3wAf8hQCEZe35gMUPgH3t/YBtYPgPAQhLaqjxKOcTHokEwL6yl1WooYZHYMI/CEBYUs4nFWqoYv8XgH01VHmVs7zS9BgIUgQgLIntXwCQ9rANDD8hAGFJ+zj5GQC0byFrIfyDAITlHMqsUeV+bn8AAJX7G1T8ba3pMRCECEBYzv6VnPMCAN/JZU2EHxCAsBwWOwD4D9ZE+AMBCMvJ/azK9AgAYBn7PyMA4XsEICzl0NYaVfP4IwBoVJXXoEOZNabHQJAhAGEpbHUAwLE4Nxq+RgDCUghAADgWayN8jQCEpez/J+f/AcAPcW40fI0AhGWUZ9Vx/h8AHEd1foPKs+tMj4EgQgDCMgrXc5IzADSFNRK+RADCMgrWV5seAQAsq5A1Ej5EAMIyWNwAoGm8SYYvEYCwDAIQAJrGGglfIgBhCeXZdaoudJseAwAsq7rArYqcetNjIEgQgLAETm4GgJNjGxi+QgDCEgq/YlEDgJMp3MBaCd8gAGEJxVtrTY8AAJZXnMlaCd8gAGEJJdu5wSkAnAxrJXyFAIRxXq9XpTt5VwsAJ1O6s05er9f0GAgCBCCMq8ipV0MVCxoAnExDpUeVuTwyEy1HAMI4tjQA4NSVbGfHBC1HAMK4UhYzADhlvGmGLxCAMI7FDABOHUcA4QsEIIwr2UEAAsCpKmXNhA8QgDCuIptHGwHAqSpnzYQPEIAwrnI/ixkAnKoq1kz4AAEIo9z1XtUUuU2PAQABo/qgW+56bp2FliEAYVRVXr3EOgYAp84rVedzL0C0DAEIo6oOsIgBQHNVHmAbGC1DAMKoyv0EIAA0F2snWooAhFFVvIsFgGZj9wQtRQDCqEoWMQBoNraA0VIEIIziCmAAaL5a1k60EAEIo+rLPaZHAICAU8faiRYiAGFUfQWLGAA0F2snWooAhFF15WxjAEBz1bN2ooUIQBjFFjAANB9bwGipUwrAxx57TAMGDPDzKPi+vXv3yuFwaOPGjaZH8Su2MQCg+Vg70VI+OwI4Z84cJSQk+OrDwQIcDofef/99v36OQHkXu1Nf6lXdpd/oEt2lftqk5Uf9uldeLdRL+o1G6B6drf/RbSrQvqNeU6lSzdFUTdEw3a9z9Zamq1ZVJ/y89arVfD2hB3S+7tVQzdI9KtPBoz7mq7pL92qontE4ZSvzqN8/X09oud5o4Z8egNWwe4KWsvQW8P79+9XQwH3iglmgLGK1qlaauusGPXTcX/9Ef9Fnmqef6BFN0VsKU6T+pJ+rXrWNr3lDU3VAu3SX/qzJekk7tV7z9NgJP+97ek7f6DP9TL/T3ZqtUhXodd3T+OtL9GfVqFJT9a666eyjPt4ebdJebdYI3dSiPzsA6wmUN8+wrsYAXLlypYYOHaro6GglJCTovPPO0759+477m3bt2qUuXbrorrvuktfr9dtws2bNUseOHTVlyhRt3ry52b//4osv1q9//Ws98MADSkpKUrt27fTYY48d9ZqsrCxdffXViomJUVxcnK6//nrl5+ef8ON+/vnnGjBggCIiInT22Wfr/fffP2a79rPPPtPQoUMVHh6u9u3b68EHHzwqZj/++GOdf/75SkhIUHJysq688krt2rWryc9ZXFysCRMmKDU1VZGRkerWrZtmz5593Ne++eabSk5OVm1t7VE/f8011+jmm29u/PGCBQs0aNAgRUREqEuXLpoxY0bjjBkZGZKka6+9Vg6Ho/HHvtZQHRiLWB9doLH6tc7Spcf8mlderdBcjdYd6q9LlKYeukVPqVSF2qRPJUl52q2tWqXxmqEM9VdXDdI4TdMGfawSFRz3c1arXF/o7/qx7lcPnaN09dFNmqnd2qg92tT4cQfrcrVVhs7TOOVrjyTJrXq9o5n6iabLKZef/q8AMMUdIGsnrMspSQ0NDbrmmmt00UUX6euvv9YXX3yhO+64Qw6H45jf8PXXX+v888/X+PHj9dJLLx33NU3JyspSTEzMCb899dRTja+fOnWq/vCHPygzM1ODBg3SoEGD9Mc//lGFhYWn/DnfeOMNRUdHa82aNXruuef0+OOPa9myZZIkj8ejq6++WocOHdJnn32mZcuWaffu3brhhhua/HhlZWUaO3as+vXrpw0bNmjmzJmaOnXqUa/Jzc3VmDFjNGTIEG3atEmvvPKK/vd//1dPPPFE42sqKyt177336ssvv9Ty5cvldDp17bXXyuM5/l/qRx55RFu3btXixYuVmZmpV155RSkpKcd97bhx4+R2u/XBBx80/lxBQYEWLVqkn/70p5Kkf/3rX7rlllv03//939q6datee+01zZkzR08++aQkad26dZKk2bNn68CBA40/9jVvEFzIVqQclemgempY489FKlYZ6qe9R0JtjzYpUrHqrD6Nr+mhYXLIqX06/pubLG2VWw3q8b2P205dlKj2jQGYph7arjVyq0GZWqUO6iZJWqbZ6qYhR30+AMHDEwRrJ8wKkQ5HTWlpqa688kp17dpVktSrV69jXvz555/ryiuv1EMPPaT77ruv2Z+sQ4cOJ72oISkpqfG/IyIidMMNN+iGG25QQUGB5s2bpzlz5mjKlCkaM2aMJk6cqLFjxyokJKTJj9e/f389+uijkqRu3brppZde0vLlyzVq1CgtX75cmzdv1p49e9SpUydJh4+e9enTR+vWrdOQIUOO+Xjz5s2Tw+HQrFmzFBERod69eys3N1e3335742tefvllderUqTGQe/bsqf3792vq1KmaPn26nE6nrrvuuqM+7l/+8helpqZq69at6tu37zGfNysrSwMHDtTZZ58tSSc8IhcZGanx48dr9uzZGjdunCRp7ty5Sk9P18UXXyxJmjFjhh588EFNnDhRktSlSxfNnDlTDzzwgB599FGlpqZKkhISEtSuXbsmP1dLeT3+O4LcWspUJEmKVfJRPx+r5Mbz9cp08JhfdylEUYo/6py+oz/uQYUoVFGKO+rn4773cS/Tz/SOZuoxjVGyOmiCHleB9mmNPtB9mqu39bi+1edKVx+N12OKVKxP/swADAuCtRNmhUiHo2vSpEkaPXq0Ro0apZEjR+r6669X+/btG1+YlZWlUaNG6cknn9Tdd999ep8sJERnnnnmaf3eNm3a6O6779bdd9+txYsXa9KkSVqwYIG++uqrE16h3L9//6N+3L59exUUHN5yy8zMVKdOnRrjT5J69+6thIQEZWZmHjcAt23bpv79+ysiIqLx54YOHXrUazIzMzV8+PCjjo6ed955qqioUE5OjtLT07Vjxw5Nnz5da9as0cGDBxuP/GVlZR03AH/xi1/ouuuu04YNG3TZZZfpmmuu0bnnntvkn/v222/XkCFDlJubq7S0NM2ZM0eTJk1qnGnTpk1atWpV4xE/SXK73aqpqVFVVZWioqKa/Ni+5GUXo0UiFatb9dxRP/dH/UzX6l59qUUqUo6m60PN02NarFf1Y91vaFIAvsTaiZZqPAdw9uzZ+uKLL3Tuuedq/vz56t69u1avXt34wtTUVA0dOlRvv/22ysrKTuuTNXcL+PvKy8s1e/ZsXXLJJRo7dqz69u2rN954Q7179z7h5wwNDT3qxw6Ho8lt1tY0duxYHTp0SLNmzdKaNWu0Zs0aSVJdXd1xX3/55Zdr3759uueee7R//35deumlmjJlSpMff+DAgTrrrLP05ptvav369dqyZYsmTZrU+OsVFRWaMWOGNm7c2Pht8+bN2rFjx1Fx63dB8CY27siRvfIjRwK/U64ixSnlyGtSjvl1txpUpdLG1xz7cVPUoHpV6ei/b2Xf+7g/9IX+oUjFqr8u0Q6tU39dIpdCNVCjtUP+2cYH0PoIQLTUUXunAwcO1MCBAzVt2jQNHz5c8+bN07Bhh88/ioyM1MKFCzVmzBiNHj1aS5cuVWzsf7aTJk2adFRgHE9zt4DdbreWLl2qv/71r3r//ffVqVMn3XLLLZozZ47S09Ob+Uc9Vq9evZSdna3s7OzGo4Bbt25VSUlJk2HZo0cPzZ07V7W1tQoPD5ekY86P69Wrl9577z15vd7GI26rVq1SbGysOnbsqKKiIm3btk2zZs3SBRdcIEn697//fdJ5U1NTNXHiRE2cOFEXXHCB7r//fv32t79t8vW33XabXnzxReXm5mrkyJFHHekcNGiQtm3bdsIjsqGhoXK7/XyiiUMBH4HJ6qg4pWib1qijekqSqlWhvdqs83X4fNIzdJaqVa4sbVH6kfPytmutvPKos/od9+Omq7dcCtE2rdFAjZIk5WuPinVAZ+isY15frkP6WK/pniO3ffHILbcOX9TjVr084l8MIFg4LH0PDwQCpyTt2bNH06ZN0xdffKF9+/Zp6dKl2rFjxzHnAUZHR2vRokUKCQnR5ZdfroqKisZfe+mll47ZCv2h77aAT/Tt+wH41FNP6cYbb1RsbKw++eQTbdu2TQ899JBP4k+SRo4cqX79+mnChAnasGGD1q5dq1tuuUUXXXRR47l2PzR+/Hh5PB7dcccdyszM1JIlSxoj7LvYu/POO5Wdna1f/epX+vbbb7VgwQI9+uijuvfee+V0OpWYmKjk5GT9+c9/1s6dO/Xpp5/q3nvvPeGs06dP14IFC7Rz505t2bJFCxcuPO55mj+cNScnR7NmzWq8+OP7H+/NN9/UjBkztGXLFmVmZuqdd97Rww8/3PiajIwMLV++XHl5eSouLpYkrV27Vj179lRubu6J/+eeokBZxGpVpRx9qxx9K0kqUq5y9K0O6YAccmiEbtLHek1fa4VytV1/1W8Ur1SdpUskHb54o7fO0zzN0F5t1i59pXf1lAbpR0pQG0lSifI1U2O198hFIZGK1XD9WH/X89qutcrSFs3VIzpDZx03AN/Ts7pEtyhBbSVJXTRQa/Wh8rRbq/R/6qIBrfB/CkBrCJS1E9bllKSoqCh9++23uu6669S9e3fdcccd+uUvf6mf//znx/yGmJgYLV68WF6vV1dccYUqKyslSQcPHtT27dt9OtzNN9+svLw8vfbaayc83+10ORwOLViwQImJibrwwgs1cuRIdenSRfPnz2/y98TFxenDDz/Uxo0bNWDAAD300EOaPn26JDVunaalpemjjz7S2rVrddZZZ2ny5Mn62c9+1hhXTqdT77zzjtavX6++ffvqnnvu0fPPP3/CWcPCwjRt2jT1799fF154oVwul955550T/p74+Hhdd911iomJ0TXXXHPUr40ePVoLFy7U0qVLNWTIEA0bNkwvvPCCOnfu3Pia3/3ud1q2bJk6deqkgQMHSpKqqqq0bds21dfXn/BznyqH89SvIjdpn7boGY3TMzp8Uc3f9bye0Tgt0kuSpJH6qS7SeL2tGXpeN6pWVbpTrypU4Y0fY6KeVVtl6H90m17RneqqgRr/vfv2udWgfO1VnWoaf+46PaC+ulCv6x69qFsVpxTdrhePmW+rVqlQ2bpAP2n8uYt0o1LUUb/VeLlVrzH6hY//rwAwJkDWTliXw+vPG/nZxFtvvaVbb71VpaWlioyMND3OUS699FL16dNHf/zjH02PclyvRW1RQzVfggDQHCFRDv28kts84fQ1ff8UNOnNN99Uly5dlJaWpk2bNmnq1Km6/vrrLRV/xcXFWrlypVauXKmXX37Z9DhNCol2qqGaG1oBQHOERrMHjJYhAE9DXl6epk+frry8PLVv317jxo076nYqVjBw4EAVFxfr2WefVY8ePUyP06SwWKdqDhKAANAcobEEIFqGLWAY9U7/HSraXHvyFwIAGiX3j9BPNp3efXUB6Xv3AQRMCI3lObUA0FxhHAFEC/EVBKNCY/gSBIDmYu1ES/EVBKN4FwsAzcc5gGgpvoJgFIsYADQfaydaiq8gGMUiBgDNF8b502gh/vWFUZGp3IkIAJorMpUARMsQgDAquj0BCADNFcXaiRYiAGFUVPtQ0yMAQMBh7URLEYAwKroD72IBoLlYO9FSBCCMYhsDAJovmiOAaCECEEZFtQmRg3OZAeCUOVxcBIKWIwBhlMPpUGQbjgICwKmKahsih9NhegwEOAIQxnEuCwCcuugObP+i5QhAGBfbOcz0CAAQMGI7E4BoOQIQxiV0JwAB4FTFs2bCBwhAGJfQPdz0CAAQMFgz4QsEIIzjCCAAnDoCEL5AAMI4FjMAOHW8aYYvEIAwLjI1ROGJ3NMKAE4mPMmlyBTunICWIwBhCfHdeEcLACeTwFoJHyEAYQlsaQDAyXHKDHyFAIQlJPWJMD0CAFheUh8CEL5BAMIS2gyOND0CAFheKmslfIQAhCWkDuIIIACcDGslfIUAhCVEJIfweCMAOIHYjFBFJHEFMHyDAIRlsLUBAE3jVBn4EgEIy0gdzNYGADSFN8nwJQIQlsG7WwBoGm+S4UsEICyDd7cA0DTeJMOXCEBYRmRKiOK6cCEIAPxQXNcwRSRzAQh8hwCEpaRdHG16BACwHNZG+BoBCEthkQOAY7E2wtcIQFhKBxY5ADgGAQhfIwBhKbGdwjgPEAC+J65rmGI6si7CtwhAWE7aiBjTIwCAZXQcwdE/+B4BCMthqwMA/oNTY+APBCAshwAEgP9gTYQ/EICwnJiOoUrsGW56DAAwLrFXuGLSOP8PvkcAwpIyxsaaHgEAjGMthL8QgLAkFj0AYC2E/xCAsKR250YpIsVlegwAMCYixaX250aZHgNBigCEJTldDnUewztfAPaVcUWsHE6H6TEQpAhAWBZbHwDsjDUQ/kQAwrLSR8fIGca7XwD24wp3qNNobooP/yEAYVlhsS7ufwXAltIujlZYDOdBw38IQFha1/+KMz0CALQ61j74GwEISztzXLxc4WwDA7APV7hDXf8r3vQYCHIEICwtPMHF1cAAbKXzFbEKT2D7F/5FAMLyuk/gnTAA+2DNQ2sgAGF5GVfGKjyBL1UAwS880aWMK9j1gP/xryoszxXu5HwYALbQ9b/i5Arnn2b4H19lCAhsiQCwg+4TEkyPAJsgABEQOlwUrZhOoabHAAC/iUkPVYcLefYvWgcBiIDgcDjU89YE02MAgN/0ujVBDge3vULrIAARMPrcniQHd0YAEIQcLqn37Ummx4CNEIAIGDEdQ7knIICg1PmKWMWkcZoLWg8BiIDS9xe8QwYQfPpOZm1D6yIAEVDSR8cormuY6TEAwGfizwxT+o9iTI8BmyEAEVAcTof63ck7ZQDBo++dSVz8gVZHACLg9PppokKi+dIFEPhCop3q9dNE02PAhvhXFAEnPMGlHjcnmB4DAFqs5y0JCo/n9gZofQQgAtLA+1O4JQyAgOZwSQOmpJgeAzZFACIgxXcJ05nX83g4AIHrzBviFd+Fi9pgBgGIgDXowVTTIwDA6XFIg1nDYBABiICV0j9Cna/gxtAAAk/GFbFK7hdhegzYGAGIgDZ4GufPAAg8g6Zx9A9mEYAIaO3Pi1b7C6JMjwEAp6zDhVFqfy7rFswiABHwBvNOGkAA4egfrIAARMDrfHms2g2PND0GAJxUu3Oj1PlHnLsM8whABIXhz7QzPQIAnNTwZ9qaHgGQRAAiSHS4MFrpl/MwdQDW1XlMjDpcEG16DEASAYggMvzpthLPUwdgQQ6nNOxpdipgHQQggkbKWZHqPp6ngwCwnm7j45XSn/v+wToIQASVc2a2lTOMw4AArMMZ5tA5Mzn3D9ZCACKoxJ0Rpj4/TzQ9BgA06js5SXEZPPMX1kIAIugMeaSNwhNdpscAAIUnunT2w9z3D9ZDACLoRKaG6JyZbUyPAQA654k2ikwNMT0GcAwCEEGpz+QkpQzkhGsA5qQOilDfyUmmxwCOiwBEUHK6HLroTx24LQwAMxzShX/qIIeTRQjWRAAiaLUbHqWeExNMjwHAhnpOSlC7YVGmxwCaRAAiqJ37XDuFJ/BlDqD1hCe6dO6z3PQZ1sa/jAhqkakhGsr9twC0onNmcuEHrI8ARNDr+4sktTk70vQYAGygzZBI9f0FF37A+ghABD2ny6FL5qTJFc7J2AD8xxXu0KVz0rjwAwGBAIQtJPeJ0JBHuTcgAP8Z8lgbJfXm9lMIDA6v1+s1PQTQGjxur94bvlsF66pNjwIgyLQZGqnrPu8ip4ujfwgMHAGEbThdh7dn2AoG4Evfbf0SfwgkBCBsJal3hIY8xlYwAN8ZOqONknqx9YvAwhYwbMfj9uq9c3erYC1bwQBapu05kfrxKrZ+EXg4AgjbcbocGvXXjgqN4csfwOkLjXFq5JsdiT8EJP4FhC0ldA/XRa90MD0GgAB20asdlNA93PQYwGkhAGFbPW5KUM9JCabHABCAet6aoB4TEkyPAZw2zgGErdVXefS3s3epOLPW9CgAAkRi73CNW9dVoVEcQ0Hg4qsXthYa5dTo+Z0UEsk5PABOLiTSodHzOxF/CHh8BcP2kvtF6PwX25seA0AAOP8P7ZXcl1u+IPARgICkPnckqduN8abHAGBh3W6MV5/bk0yPAfgEAQgcMeL1NKUM4J09gGOlDIjQiNfTTI8B+AwBCBwRGuXUmAXpimzjMj0KAAuJbOPSmAXpnPeHoMJXM/A9selh+tF76XKGclEIAMkZ5tDlf09XbHqY6VEAnyIAgR/ocH60LnqZi0IASBe93F7tz4s2PQbgcwQgcBy9b0tSv7s42Ruws36/SlLvn7EOIDhxI2igCZ4Grz4YvVe5n1aaHgVAK+t4abTGfpwhZwingyA4cQQQaIIzxKEf/V+6EnvzrE/ATpL6hGv039KJPwQ1AhA4gYhEl65akqGYTqGmRwHQCmLSQzV2SYYiErkbAIIbAQicREzHUI1d0lnhSfyDAASziOQjb/jSeMOH4EcAAqcgqVeErlzYWSFRbAkBwSgkyqErFnZWYk9O+YA9EIDAKWo3PEqj53eSM8T0JAB8yRkijX43Xe2GRZkeBWg1BCDQDBlXxuniWTwOCggmI15PU8YVsabHAFoVAQg0U69JiTrv9+1MjwHAB877fTv1nJhoegyg1RGAwGkYcE+Khj/b1vQYAFpg+HNtNeCeFNNjAEYQgMBpGvRAqs55so3pMQCchmFPtdWg+1NNjwEYQwACLXD2b9ronCeIQCCQnPNEGw2eRvzB3ngUHOAD658p1Opp+abHAHASw59pq0FTiT+AAAR85KvfHtTn9+eZHgNAE879bTsNvI9z/gCJAAR86ptXD+mfv9wvr8f0JAC+43BKF/6pg/pOTjI9CmAZBCDgY7veK9WyCTly1/JXCzDNFe7QqHkd1fXH8aZHASyFAAT8IHdlhT66Jkt1pRwKBEwJi3dqzILOSrso2vQogOUQgICfHNxUrQ9/tE9VeQ2mRwFsJ6p9iMZ+nKGU/hGmRwEsiQAE/KhsT50+GL1XpTvqTI8C2EZ8tzBdtTRDcRlhpkcBLIsABPysurBBC6/cp4K11aZHAYJem6GRunJhZ0WmhpgeBbA0AhBoBQ01Hq24LVfb3yo1PQoQtLpPiNeI19MUEsEzDoCTIQCBVrTh2UKt/k0+t4kBfMjhlIY93VaDHuAGz8CpIgCBVrZ3UbmWjc9WXRkVCLRUWJxTo+Z1UsYVsaZHAQIKAQgYcCizRh9dlaXSnVwcApyu+DPDNOaDdCX14kpfoLkIQMCQmmK3llyfpZxPKk2PAgScjiOjNfrddEUkukyPAgQkAhAwyOP26suZBfpyZiHnBQKnwOGUzp7eRkMeSZXD6TA9DhCwCEDAAnJWVGjZhBxVHeCm0UBTojuEaNRbHZV2cYzpUYCARwACFlFd2KBPbs5R1pIK06MAlpP+oxiNfLMj9/cDfIQABCzE6/Vqw7MHtfaRfHk4GAjIGSKd80RbDXwgRQ4HW76ArxCAgAUd+LxKy8Znq3xfvelRAGNiO4fqsrc7qd3wKNOjAEGHAAQsqq7crVVT8rT1z8WmRwFaXe87EnXeb9spLJarfAF/IAABi8taWq4Vt+1XRTZHAxH8YtJDdcnraeo0igs9AH8iAIEAUFfm1qr78rT1dY4GInj1vv3IUb84jvoB/kYAAgEka0m5VtzO0UAEl5hOoRrxegelX8bj3IDWQgACAaauzK0vpuVry6uHuHk0AprDKfWZnKThT7flqB/QyghAIEAVbqjWZ7/cr/zV1aZHAZqt3fBIXfinDkodGGl6FMCWCEAggHm9XmXOLtHqB/NUXeg2PQ5wUpGpLg1/tp16Tkrgvn6AQQQgEARqit1a8zDbwrAuh0vqOzlJ5zzRVuEJbPcCphGAQBAp/Kpa//rvAzrwryrTowCNOlwYpfNfbM92L2AhBCAQhPYuKtfqaXkq2lxrehTYWHL/CA17uq0yxnB1L2A1BCAQpLwer7a/VaI10wtUvpfbxqD1xGaE6pyZbdV9fLwcTs7zA6yIAASCnLvOo29eLdb6Jwq4UAR+FZnq0uCH26jv5ES5wpymxwFwAgQgYBN15W5teqFIm/5QpNpDhCB8JyLZpf6/TtZZ9yTz7F4gQBCAgM3UV3q05c+HtPF3B1WZ22B6HASw6LQQDbgvRX3uSFJoNEf8gEBCAAI25a7zaNtfS7Th2YMq3VFnehwEkPhuYRo0NUU9bk5gqxcIUAQgYHNej1e73ivT+qcLdfCrGtPjwMJSBkZo8LRUdb0ujos7gABHAAJolLuyQl//zyHtWVAmL6cJQodv4Nzlmjj1uytJaRfHmB4HgI8QgACOUZ5dpy2vFmvr64dUXUAJ2lFk2xD1/lmi+kxOVGynMNPjAPAxAhBAk9z1Xu3+R5m2vHZIuSsqJVaL4OaQ0kZEq+/kJJ1xTZxcoWzzAsGKAARwSkp21Grb3BJtf6tUZbu4aCSYxHUNU/cJ8epxU4ISuoWbHgdAKyAAATRb3uoqbX+rRDvnl3Jz6QAVmerSmTfEq/uEBLUbFmV6HACtjAAEcNo8DV5lLa3Q9rkl2rOgTA1VLCdWFhLl0BlXx6n7TQlKvyxGzhC2eAG7IgAB+ERDtUfZn1Ro74fl2ruwXFUHuMm0FUS1D1HGlbE646pYdbw0RiGR3LcPAAEIwA+8Xq8K1lVr74fl2vNBuYq+5v6CrSm5f4TOuCpWGVfFqs3ZkXI4ONIH4GgEIAC/K9tXp6zFFcpdUaHcz6pUnc/RQV+KbBuitIuilDYiRumXxyiuM7dtAXBiBCCAVncos0b7V1Yqd2UlQXgaGoPv4mh1uDhaSb0iTI8EIMAQgACMO5RZowP/rlLh+moVbqhR0dc1cteyNEmSK9yh5P4RSh0cqTaDI9TuvCiCD0CLEYAALMdd79WhLTWHg3B9jQrWVx+OwprgXq5cEYdjr83gSKUOPhx9SX0iuCEzAJ8jAAEEBK/Hq/LsepVur1PxtlqVbK9V6fY6lWyvVfm+enk9pic8NQ6nFNs5VAndw5XQI1wJ3cOU0D1c8d3DFNspVA4nsQfA/whAAAHPXetR2d56VebWq/JAg6oONKjyQP3h7/cf/r4qr0F15R7/Pc7OIYXFOhXVLkRR7UMU3SH08Pftv/s+RNFpoYrLCJUrnFuxADCLAARgG16PV/WVHtWXe1Rf4VHdke/ry92qK/fIU+eV13P4dd8dUXQ4JYfTIYdTcoY5FBbrVGisS6ExzsP/HeNUaKxTodFOjt4BCBgEIAAAgM2wDwEAAGAzBCAAAIDNEIAAAAA2QwACAADYDAEIAABgMwQgAACAzRCAAAAANkMAAgAA2AwBCAAAYDMEIAAAgM0QgAAAADZDAAIAANgMAQgAAGAzBCAAAIDNEIAAAAA2QwACAADYDAEIAABgMwQgAACAzRCAAAAANkMAAgAA2AwBCAAAYDMEIAAAgM0QgAAAADZDAAIAANgMAQgAAGAzBCAAAIDNEIAAAAA2QwACAADYDAEIAABgMwQgAACAzRCAAAAANkMAAgAA2AwBCAAAYDMEIAAAgM0QgAAAADZDAAIAANgMAQgAAGAzBCAAAIDNEIAAAAA2QwACAADYDAEIAABgMwQgAACAzRCAAAAANkMAAgAA2AwBCAAAYDMEIAAAgM0QgAAAADZDAAIAANgMAQgAAGAzBCAAAIDNEIAAAAA2QwACAADYDAEIAABgMwQgAACAzRCAAAAANkMAAgAA2AwBCAAAYDMEIAAAgM0QgAAAADZDAAIAANgMAQgAAGAzBCAAAIDNEIAAAAA2QwACAADYDAEIAABgMwQgAACAzRCAAAAANkMAAgAA2Mz/A1SNpzoS2aP+AAAAAElFTkSuQmCC' width=640.0/>\n",
       "            </div>\n",
       "        "
      ],
      "text/plain": [
       "Canvas(toolbar=Toolbar(toolitems=[('Home', 'Reset original view', 'home', 'home'), ('Back', 'Back to previous …"
      ]
     },
     "metadata": {},
     "output_type": "display_data"
    },
    {
     "name": "stdout",
     "output_type": "stream",
     "text": [
      "Sending new goal: (6.0, 3.0)\n",
      "Cancelling current goal...\n"
     ]
    }
   ],
   "source": [
    "# Information Display UI\n",
    "\n",
    "# layout style\n",
    "layout = Layout(\n",
    "    display='flex',\n",
    "    flex_flow='column',\n",
    "    align_items='center',  # To center align the box\n",
    "    justify_content='center',\n",
    "    border='solid',\n",
    "    width='50%',\n",
    "    padding='10px',\n",
    "    margin='auto'\n",
    ")\n",
    "\n",
    "# Some CSS Styling used to improve the UI and show the power of HTML in Jupyter Widgets\n",
    "style = \"\"\"\n",
    "<style>\n",
    "    p {\n",
    "        font-size: 18px;\n",
    "        color: #4B0082;  # Indigo text\n",
    "        font-family: Arial, sans-serif;\n",
    "    }\n",
    "    .widget-box {\n",
    "        background-color: #F0F8FF;  # AliceBlue background\n",
    "        border-radius: 5px;\n",
    "        box-shadow: 2px 2px 2px lightgray;\n",
    "    }\n",
    "    input[type='text'] {\n",
    "        padding: 10px;\n",
    "        border-radius: 5px;\n",
    "        border: 1px solid #4B0082;\n",
    "    }\n",
    "    .button {\n",
    "        background-color: #4B0082;\n",
    "        border: none;\n",
    "        color: white;\n",
    "        padding: 10px 20px;\n",
    "        text-align: center;\n",
    "        text-decoration: none;\n",
    "        display: inline-block;\n",
    "        font-size: 16px;\n",
    "        margin: 4px 2px;\n",
    "        cursor: pointer;\n",
    "        border-radius: 5px;\n",
    "    }\n",
    "</style>\n",
    "\"\"\"\n",
    "\n",
    "\n",
    "# Widget to display the robot position\n",
    "robo_pos_widget_label = widgets.HTML(value=f\"{style}<p><b>Robot position:</b> N/A</p>\")\n",
    "\n",
    "# Widget to display the closest obstacle\n",
    "closest_obstacle_widget_label = widgets.HTML(value=f\"{style}<p><b>Distance to closest obstacle:</b> N/A</p>\")\n",
    "\n",
    "# Jupyter widget for goals reached and cancelled\n",
    "goal_info_widget_label = widgets.HTML(value=f\"{style}<p><b>Goals Information:</b> N/A</p>\")\n",
    "\n",
    "# Combine the labels into a single UI using a VBox\n",
    "info_ui = widgets.VBox([robo_pos_widget_label, closest_obstacle_widget_label, goal_info_widget_label], layout=layout)\n",
    "\n",
    "# CSS Class addition for VBox UI\n",
    "info_ui.add_class('widget-box')\n",
    "\n",
    "# heading\n",
    "heading = widgets.HTML(value=\"<center><h2 style='color: #4B0082;'><u>Robot Controller Interface</u></h2></center>\")\n",
    "\n",
    "# Text input fields for X and Y\n",
    "x_text = widgets.FloatText(description=\"X:\")\n",
    "y_text = widgets.FloatText(description=\"Y:\")\n",
    "\n",
    "# Buttons for send and cancel\n",
    "send_button = widgets.Button(description=\"Send Goal\", button_style='success')  # 'success' for green color\n",
    "cancel_button = widgets.Button(description=\"Cancel Goal\", button_style='danger')  # 'danger' for red color\n",
    "\n",
    "# on-click events callback functions\n",
    "send_button.on_click(on_send_button_click)\n",
    "cancel_button.on_click(on_cancel_button_click)\n",
    "\n",
    "# Combine the input fields and buttons into a single UI using an HBox\n",
    "goal_ui = widgets.HBox([x_text, y_text, send_button, cancel_button])\n",
    "\n",
    "# Combine the goal UI and the information UI into a single UI using a VBox\n",
    "combined_ui = widgets.VBox([heading, goal_ui, info_ui], layout=Layout(display='flex', flex_flow='column', align_items='center', justify_content='center'))\n",
    "\n",
    "display(combined_ui)\n",
    "\n",
    "goals_completion_graph = goal_info_plot()"
   ]
  },
  {
   "cell_type": "code",
   "execution_count": 11,
   "metadata": {},
   "outputs": [],
   "source": [
    "def updated_robo_position():\n",
    "    \"\"\"\n",
    "    Function to update the robot position and closest obstacle widgets.\n",
    "    \"\"\"\n",
    "    while not rospy.is_shutdown():\n",
    "        robo_x_pos, robo_y_pos = robo_client.get_robo_position()\n",
    "        robo_pos_widget_label.value = f\"Robot position: ({robo_x_pos:.2f}, {robo_y_pos:.2f})\"\n",
    "\n",
    "        closest_obstacle_dist = robo_client.get_closest_obstacle()\n",
    "        closest_obstacle_widget_label.value = f\"Distance to closest obstacle: {closest_obstacle_dist:.2f}\"\n",
    "\n",
    "        rospy.sleep(0.75)\n",
    "\n",
    "# Thread to update the robot position and closest obstacle widgets\n",
    "position_thread = Thread(target=updated_robo_position)\n",
    "position_thread.start()"
   ]
  },
  {
   "cell_type": "code",
   "execution_count": 12,
   "metadata": {},
   "outputs": [],
   "source": [
    "def update_goal_info():\n",
    "    \"\"\"\n",
    "    Function to update the goal info widget.\n",
    "    \"\"\"\n",
    "    while not rospy.is_shutdown():\n",
    "        goal_info = robo_client.get_goal_info()\n",
    "        if goal_info is not None:\n",
    "            \"\"\"\n",
    "            Extract the goals reached and cancelled from the goal info which returns a string of type\n",
    "            \"\\n==========================================\\nNumber of goals reached: \" + std::to_string(goals_reached) + \"\\nNumber of goals cancelled: \" + std::to_string(goals_cancelled) + \"\\n==========================================\\n\"\n",
    "            \"\"\"\n",
    "            goal_info = goal_info.split(\"\\n\")\n",
    "            goals_reached = int(goal_info[2].split(\":\")[1])\n",
    "            goals_cancelled = int(goal_info[3].split(\":\")[1])\n",
    "\n",
    "            goal_info_widget_label.value = f\"Goals Information: Reached Goals: {goals_reached}, Cancelled Goals: {goals_cancelled}\"\n",
    "\n",
    "            # Plot the goal info using the goal_info_plot class\n",
    "            goals_completion_graph.update_plot(goals_reached, goals_cancelled)\n",
    "\n",
    "        rospy.sleep(0.75)\n",
    "\n",
    "# Thread to update the goal info widget\n",
    "goal_info_thread = Thread(target=update_goal_info)\n",
    "goal_info_thread.start()"
   ]
  }
 ],
 "metadata": {
  "kernelspec": {
   "display_name": "Python 3 (ipykernel)",
   "language": "python",
   "name": "python3"
  },
  "language_info": {
   "codemirror_mode": {
    "name": "ipython",
    "version": 3
   },
   "file_extension": ".py",
   "mimetype": "text/x-python",
   "name": "python",
   "nbconvert_exporter": "python",
   "pygments_lexer": "ipython3",
   "version": "3.8.10"
  }
 },
 "nbformat": 4,
 "nbformat_minor": 2
}
